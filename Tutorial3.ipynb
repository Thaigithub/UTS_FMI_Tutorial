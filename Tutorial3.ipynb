{
 "cells": [
  {
   "cell_type": "markdown",
   "id": "2e16a122",
   "metadata": {},
   "source": [
    "# 1."
   ]
  },
  {
   "cell_type": "markdown",
   "id": "4df1c5c8",
   "metadata": {},
   "source": [
    "The price of the 90-day Australian bank bill with yield 5.5% is $ P = 100,000 * (1+0.055*\\frac{90}{365})^{-1} $"
   ]
  },
  {
   "cell_type": "code",
   "execution_count": 1,
   "id": "5abf6919",
   "metadata": {},
   "outputs": [
    {
     "name": "stdout",
     "output_type": "stream",
     "text": [
      "98661.98134883092\n"
     ]
    }
   ],
   "source": [
    "r1=5.5/100\n",
    "r2=5.48/100\n",
    "fv=100000\n",
    "P = fv *1/(1+r1*90/365)\n",
    "print(P)"
   ]
  },
  {
   "cell_type": "markdown",
   "id": "8768fbe8",
   "metadata": {},
   "source": [
    "The price of the 60-day bill trading at 5.48% is $P'=100,000 *(1+0.0548 * \\frac{60}{365})^{-1}$"
   ]
  },
  {
   "cell_type": "code",
   "execution_count": 2,
   "id": "ca3451ef",
   "metadata": {},
   "outputs": [
    {
     "name": "stdout",
     "output_type": "stream",
     "text": [
      "99107.22043618037\n"
     ]
    }
   ],
   "source": [
    "P1 = fv *1/(1+r2*60/365)\n",
    "print(P1)"
   ]
  },
  {
   "cell_type": "markdown",
   "id": "bf66d3f9",
   "metadata": {},
   "source": [
    "Holding Period Yield for 30 days is"
   ]
  },
  {
   "cell_type": "code",
   "execution_count": 3,
   "id": "1bbd3220",
   "metadata": {},
   "outputs": [
    {
     "data": {
      "text/plain": [
       "0.054905400121644084"
      ]
     },
     "execution_count": 3,
     "metadata": {},
     "output_type": "execute_result"
    }
   ],
   "source": [
    "(P1-P)/P /30 * 365"
   ]
  },
  {
   "cell_type": "markdown",
   "id": "217caaaa",
   "metadata": {},
   "source": [
    "# 2."
   ]
  },
  {
   "cell_type": "markdown",
   "id": "40b491b6",
   "metadata": {},
   "source": [
    "Using the definition fo bond yield"
   ]
  },
  {
   "cell_type": "code",
   "execution_count": 2,
   "id": "e02c8260",
   "metadata": {},
   "outputs": [],
   "source": [
    "import numpy as np\n",
    "from scipy import optimize\n",
    "def f(y,n,c,mp):\n",
    "    return c*(1-(1+y)**(-n))/y + 100 * (1+y)**(-n) - mp\n",
    "\n",
    "\n",
    "fv =100\n",
    "c_list = np.array([6.5,3.25,4.8,1.5,5,4,2])\n",
    "mp_list = np.array([101.8137,97.7066,101.2414,89.9751,103.4012,99.0074,87.2087])"
   ]
  },
  {
   "cell_type": "code",
   "execution_count": 5,
   "id": "4b612503",
   "metadata": {},
   "outputs": [],
   "source": [
    "y_list=[]\n",
    "for i in range(7):\n",
    "    n=i+1\n",
    "    sol = optimize.root_scalar(f, bracket=[0.00001,1000], args=(n,c_list[i],mp_list[i]))\n",
    "    y = sol.root\n",
    "    #print(y)\n",
    "    y_list.append(y)"
   ]
  },
  {
   "cell_type": "code",
   "execution_count": 6,
   "id": "89d1fcbc",
   "metadata": {},
   "outputs": [
    {
     "name": "stdout",
     "output_type": "stream",
     "text": [
      "[0.046028186776435734, 0.04474220150763289, 0.043496912077642176, 0.04280008152461199, 0.042310328713518856, 0.04190526364453558, 0.04142380835108766]\n"
     ]
    }
   ],
   "source": [
    "print(y_list)"
   ]
  },
  {
   "cell_type": "markdown",
   "id": "d657b356",
   "metadata": {},
   "source": [
    "# 3. "
   ]
  },
  {
   "cell_type": "markdown",
   "id": "72c10830",
   "metadata": {},
   "source": [
    "(a)\n",
    "- Using the price of Treasury bond formula,\n",
    "- the number of days between coupon dates is 3/15 ~ 9/15.\n",
    "- the number of coupon times remaining is 6; 17/3/15,17/9/15, 18/3/15,18/9/15, 19/3/15,19/9/15"
   ]
  },
  {
   "cell_type": "code",
   "execution_count": 3,
   "id": "b9253b74",
   "metadata": {},
   "outputs": [],
   "source": [
    "import datetime as dt"
   ]
  },
  {
   "cell_type": "code",
   "execution_count": 8,
   "id": "5fb6e2b2",
   "metadata": {},
   "outputs": [
    {
     "name": "stdout",
     "output_type": "stream",
     "text": [
      "184\n"
     ]
    }
   ],
   "source": [
    "diff = dt.datetime(2017,9,15)-dt.datetime(2017,3,15)\n",
    "dpn=diff.days\n",
    "print(dpn)"
   ]
  },
  {
   "cell_type": "code",
   "execution_count": 9,
   "id": "0d19851a",
   "metadata": {},
   "outputs": [
    {
     "name": "stdout",
     "output_type": "stream",
     "text": [
      "9\n"
     ]
    }
   ],
   "source": [
    "diff1 = dt.datetime(2017,3,15)-dt.datetime(2017,3,6)\n",
    "dtn=diff1.days\n",
    "print(dtn)"
   ]
  },
  {
   "cell_type": "code",
   "execution_count": 10,
   "id": "0f5815ef",
   "metadata": {},
   "outputs": [
    {
     "name": "stdout",
     "output_type": "stream",
     "text": [
      "96.20767663086696\n"
     ]
    }
   ],
   "source": [
    "w=dtn/dpn\n",
    "c_rate = 6/100\n",
    "fv=100\n",
    "i=4.5/100\n",
    "k=2 # semi anuually paid\n",
    "n=6\n",
    "c = fv * c_rate / k\n",
    "P = (1+i)**(-w) * (c + c*(1-(1+i)**(-5))/i + fv*(1+i)**(-5))\n",
    "print(P)"
   ]
  },
  {
   "cell_type": "markdown",
   "id": "26fa0f9f",
   "metadata": {},
   "source": [
    "(b)\n",
    "- the number of days between the settlement date and the next coupon date is 3/13 ~ 3/15. **< 7 days**\n",
    "- the number of coupon times remaining is 6; 17/3/15,17/9/15, 18/3/15,18/9/15, 19/3/15,19/9/15"
   ]
  },
  {
   "cell_type": "code",
   "execution_count": 11,
   "id": "2f0eff57",
   "metadata": {},
   "outputs": [
    {
     "name": "stdout",
     "output_type": "stream",
     "text": [
      "93.37035167248264\n"
     ]
    }
   ],
   "source": [
    "diff2 = dt.datetime(2017,3,15)-dt.datetime(2017,3,13)\n",
    "dtn2=diff2.days\n",
    "w2=dtn2/dpn\n",
    "c_rate = 6/100\n",
    "fv=100\n",
    "i=4.5/100\n",
    "k=2 # semi anuually paid\n",
    "n=6\n",
    "c = fv * c_rate / k\n",
    "P1 = (1+i)**(-w2) * (c*(1-(1+i)**(-5))/i + fv*(1+i)**(-5))\n",
    "print(P1)"
   ]
  },
  {
   "cell_type": "markdown",
   "id": "1ff427dc",
   "metadata": {},
   "source": [
    "# 4."
   ]
  },
  {
   "cell_type": "markdown",
   "id": "6041f8ed",
   "metadata": {},
   "source": [
    "(a) the quoted yield is the same\n",
    "\n",
    "- calculate two prices on 17/03/06 and on 17/03/07.\n",
    "- obtain HPY"
   ]
  },
  {
   "cell_type": "code",
   "execution_count": 12,
   "id": "b802850b",
   "metadata": {},
   "outputs": [
    {
     "name": "stdout",
     "output_type": "stream",
     "text": [
      "96.4201006613679\n"
     ]
    }
   ],
   "source": [
    "w=dtn/dpn\n",
    "c_rate = 6/100\n",
    "fv=100\n",
    "i=4.45/100\n",
    "k=2 # semi anuually paid\n",
    "n=6\n",
    "c = fv * c_rate / k\n",
    "P = (1+i)**(-w) * (c + c*(1-(1+i)**(-5))/i + fv*(1+i)**(-5))\n",
    "print(P)"
   ]
  },
  {
   "cell_type": "code",
   "execution_count": 13,
   "id": "d99c94cb",
   "metadata": {},
   "outputs": [
    {
     "name": "stdout",
     "output_type": "stream",
     "text": [
      "96.44291840140104\n"
     ]
    }
   ],
   "source": [
    "w=(dtn-1)/dpn\n",
    "c_rate = 6/100\n",
    "fv=100\n",
    "i=4.45/100\n",
    "k=2 # semi anuually paid\n",
    "n=6\n",
    "c = fv * c_rate / k\n",
    "P2= (1+i)**(-w) * (c + c*(1-(1+i)**(-5))/i + fv*(1+i)**(-5))\n",
    "print(P2)"
   ]
  },
  {
   "cell_type": "code",
   "execution_count": 14,
   "id": "558c7bd6",
   "metadata": {},
   "outputs": [
    {
     "name": "stdout",
     "output_type": "stream",
     "text": [
      "0.08637695931628254\n"
     ]
    }
   ],
   "source": [
    "HPY=(P2-P)/P * 365/1\n",
    "print(HPY)"
   ]
  },
  {
   "cell_type": "markdown",
   "id": "21be7beb",
   "metadata": {},
   "source": [
    "(b) the quoted yields are not same\n"
   ]
  },
  {
   "cell_type": "code",
   "execution_count": 15,
   "id": "ffdf98c2",
   "metadata": {},
   "outputs": [
    {
     "name": "stdout",
     "output_type": "stream",
     "text": [
      "96.65574449831061\n"
     ]
    }
   ],
   "source": [
    "w=(dtn-1)/dpn\n",
    "c_rate = 6/100\n",
    "fv=100\n",
    "i=4.4/100\n",
    "k=2 # semi anuually paid\n",
    "n=6\n",
    "c = fv * c_rate / k\n",
    "P2= (1+i)**(-w) * (c + c*(1-(1+i)**(-5))/i + fv*(1+i)**(-5))\n",
    "print(P2)"
   ]
  },
  {
   "cell_type": "code",
   "execution_count": 16,
   "id": "528d8d80",
   "metadata": {},
   "outputs": [
    {
     "name": "stdout",
     "output_type": "stream",
     "text": [
      "0.8920339212895232\n"
     ]
    }
   ],
   "source": [
    "HPY2=(P2-P)/P * 365/1\n",
    "print(HPY2)"
   ]
  },
  {
   "cell_type": "markdown",
   "id": "ab77b113",
   "metadata": {},
   "source": [
    "# 5."
   ]
  },
  {
   "cell_type": "markdown",
   "id": "6e62a530",
   "metadata": {},
   "source": [
    "- Caculated the future value of reinvested coupons + face value at the maturity.\n",
    "- Obtain HPY of two values"
   ]
  },
  {
   "cell_type": "code",
   "execution_count": 17,
   "id": "fd7ca4e3",
   "metadata": {},
   "outputs": [
    {
     "name": "stdout",
     "output_type": "stream",
     "text": [
      "96.20767663086696\n"
     ]
    }
   ],
   "source": [
    "w=dtn/dpn\n",
    "c_rate = 6/100\n",
    "fv=100\n",
    "i=4.5/100\n",
    "k=2 # semi anuually paid\n",
    "n=6\n",
    "c = fv * c_rate / k\n",
    "P = (1+i)**(-w) * (c + c*(1-(1+i)**(-5))/i + fv*(1+i)**(-5))\n",
    "print(P)"
   ]
  },
  {
   "cell_type": "code",
   "execution_count": 18,
   "id": "5c329fbf",
   "metadata": {},
   "outputs": [
    {
     "name": "stdout",
     "output_type": "stream",
     "text": [
      "19.048169756371344\n"
     ]
    }
   ],
   "source": [
    "r = 4.52/100\n",
    "reinvested_c = c * ((1+r/2)**6 - 1)/(r/2)\n",
    "print(reinvested_c)\n",
    "Future_value = reinvested_c + fv"
   ]
  },
  {
   "cell_type": "code",
   "execution_count": 19,
   "id": "a80ddb21",
   "metadata": {},
   "outputs": [],
   "source": [
    "T = 2 + 9/365"
   ]
  },
  {
   "cell_type": "code",
   "execution_count": 20,
   "id": "ffaf9e05",
   "metadata": {},
   "outputs": [
    {
     "name": "stdout",
     "output_type": "stream",
     "text": [
      "0.10521238398442546\n"
     ]
    }
   ],
   "source": [
    "HPY3 = 1/T*np.log(Future_value/P)\n",
    "print(HPY3)"
   ]
  },
  {
   "cell_type": "markdown",
   "id": "19a2612d",
   "metadata": {},
   "source": [
    "# 6."
   ]
  },
  {
   "cell_type": "markdown",
   "id": "0c4f0f53",
   "metadata": {},
   "source": [
    "Using the quation of US bond, "
   ]
  },
  {
   "cell_type": "code",
   "execution_count": 21,
   "id": "042ccf54",
   "metadata": {},
   "outputs": [
    {
     "name": "stdout",
     "output_type": "stream",
     "text": [
      "99.29816988950276\n"
     ]
    }
   ],
   "source": [
    "diff = dt.datetime(2022,3,7) - dt.datetime(2022,1,15)\n",
    "d_pt = diff.days\n",
    "diff = dt.datetime(2022,7,15) - dt.datetime(2022,1,15)\n",
    "d_pn = diff.days\n",
    "P0=98+19/32\n",
    "c = 100 * 5/100 / 2\n",
    "P = P0 + c * d_pt/d_pn\n",
    "print(P)"
   ]
  },
  {
   "cell_type": "markdown",
   "id": "09557c73",
   "metadata": {},
   "source": [
    "# 7."
   ]
  },
  {
   "cell_type": "markdown",
   "id": "528f6455",
   "metadata": {},
   "source": [
    "Assume there are two 1-year zero coupon bonds with the simple rate of $r_1$ and semi-annually componded rate $r_2$.\n",
    "\n",
    "- Those are the price of them\n",
    "- $P_1=(1+r_1)^{-1}$\n",
    "- $P_2=(1+r_2/2)^{-2}$"
   ]
  },
  {
   "cell_type": "markdown",
   "id": "08403e56",
   "metadata": {},
   "source": [
    "If $P_1<P_2$, then we buy the first bond and sell the second bond now to get some profits. After 1 year, there will be no risk because we will get 1 dollar from the first bond and lose 1 dollar from the second bond which we will not have no longer. On the contrary, if $P_2<P_1$, the purchase the zero coupon bond with the semi-annually compounded rate $r_2$ and sell the one with the simple rate of $r_1$ to gain some money. Likewise, people would like to buy a cheap bond and sell expensive one. Then, the demands of the cheap bond and the supply of the expensive one are increasing. Therefore, they become equal to make 'no arbitrage' by equilibrium."
   ]
  },
  {
   "cell_type": "markdown",
   "id": "e3aeb850",
   "metadata": {},
   "source": [
    "\n",
    "- $(1+r_1)^{-1}=(1+r_2/2)^{-2}$\n",
    "- $r_2 = 2(\\sqrt{1+r_1} - 1)$"
   ]
  },
  {
   "cell_type": "markdown",
   "id": "bb57d3a7",
   "metadata": {},
   "source": [
    "# 8."
   ]
  },
  {
   "cell_type": "code",
   "execution_count": 4,
   "id": "6ab71040",
   "metadata": {},
   "outputs": [
    {
     "data": {
      "text/html": [
       "<div>\n",
       "<style scoped>\n",
       "    .dataframe tbody tr th:only-of-type {\n",
       "        vertical-align: middle;\n",
       "    }\n",
       "\n",
       "    .dataframe tbody tr th {\n",
       "        vertical-align: top;\n",
       "    }\n",
       "\n",
       "    .dataframe thead th {\n",
       "        text-align: right;\n",
       "    }\n",
       "</style>\n",
       "<table border=\"1\" class=\"dataframe\">\n",
       "  <thead>\n",
       "    <tr style=\"text-align: right;\">\n",
       "      <th></th>\n",
       "      <th>Coupon and Maturity (click for term sheet)</th>\n",
       "      <th>Outstanding\\n(face value, AUD million)</th>\n",
       "      <th>ISIN</th>\n",
       "      <th>Price</th>\n",
       "    </tr>\n",
       "  </thead>\n",
       "  <tbody>\n",
       "    <tr>\n",
       "      <th>0</th>\n",
       "      <td>2.75% 21 April 2024</td>\n",
       "      <td>35900</td>\n",
       "      <td>AU3TB0000143</td>\n",
       "      <td>99.78</td>\n",
       "    </tr>\n",
       "    <tr>\n",
       "      <th>1</th>\n",
       "      <td>0.25% 21 November 2024</td>\n",
       "      <td>41300</td>\n",
       "      <td>AU0000083768</td>\n",
       "      <td>97.31</td>\n",
       "    </tr>\n",
       "    <tr>\n",
       "      <th>2</th>\n",
       "      <td>3.25% 21 April 2025</td>\n",
       "      <td>41500</td>\n",
       "      <td>AU3TB0000168</td>\n",
       "      <td>99.19</td>\n",
       "    </tr>\n",
       "    <tr>\n",
       "      <th>3</th>\n",
       "      <td>0.25% 21 November 2025</td>\n",
       "      <td>39200</td>\n",
       "      <td>AU0000095457</td>\n",
       "      <td>94.18</td>\n",
       "    </tr>\n",
       "    <tr>\n",
       "      <th>4</th>\n",
       "      <td>4.25% 21 April 2026</td>\n",
       "      <td>39600</td>\n",
       "      <td>AU000XCLWAI8</td>\n",
       "      <td>101.02</td>\n",
       "    </tr>\n",
       "  </tbody>\n",
       "</table>\n",
       "</div>"
      ],
      "text/plain": [
       "  Coupon and Maturity (click for term sheet)  \\\n",
       "0                        2.75% 21 April 2024   \n",
       "1                     0.25% 21 November 2024   \n",
       "2                        3.25% 21 April 2025   \n",
       "3                     0.25% 21 November 2025   \n",
       "4                        4.25% 21 April 2026   \n",
       "\n",
       "   Outstanding\\n(face value, AUD million)          ISIN   Price  \n",
       "0                                   35900  AU3TB0000143   99.78  \n",
       "1                                   41300  AU0000083768   97.31  \n",
       "2                                   41500  AU3TB0000168   99.19  \n",
       "3                                   39200  AU0000095457   94.18  \n",
       "4                                   39600  AU000XCLWAI8  101.02  "
      ]
     },
     "execution_count": 4,
     "metadata": {},
     "output_type": "execute_result"
    }
   ],
   "source": [
    "import pandas as pd\n",
    "AGB=pd.read_excel(\"AustralianGovernmentBonds.xlsx\")\n",
    "AGB.head()"
   ]
  },
  {
   "cell_type": "code",
   "execution_count": 5,
   "id": "37c1b2b4",
   "metadata": {},
   "outputs": [
    {
     "data": {
      "text/plain": [
       "2.75"
      ]
     },
     "execution_count": 5,
     "metadata": {},
     "output_type": "execute_result"
    }
   ],
   "source": [
    "ex=AGB.iloc[:,0][0]\n",
    "#ex.find('%')\n",
    "float(ex[:ex.find('%')])"
   ]
  },
  {
   "cell_type": "code",
   "execution_count": 6,
   "id": "fcced635",
   "metadata": {},
   "outputs": [],
   "source": [
    "C_M = AGB.iloc[:,0]\n",
    "rates=[]\n",
    "dates=[]\n",
    "for i in range(len(AGB)):\n",
    "    x=C_M[i]\n",
    "    where=x.find('%')\n",
    "    rate=float(x[:where])\n",
    "    date=pd.to_datetime(x[where+2:])\n",
    "    rates.append(rate)\n",
    "    dates.append(date)\n",
    "#print(dates)"
   ]
  },
  {
   "cell_type": "code",
   "execution_count": 7,
   "id": "827b44ed",
   "metadata": {},
   "outputs": [
    {
     "data": {
      "text/html": [
       "<div>\n",
       "<style scoped>\n",
       "    .dataframe tbody tr th:only-of-type {\n",
       "        vertical-align: middle;\n",
       "    }\n",
       "\n",
       "    .dataframe tbody tr th {\n",
       "        vertical-align: top;\n",
       "    }\n",
       "\n",
       "    .dataframe thead th {\n",
       "        text-align: right;\n",
       "    }\n",
       "</style>\n",
       "<table border=\"1\" class=\"dataframe\">\n",
       "  <thead>\n",
       "    <tr style=\"text-align: right;\">\n",
       "      <th></th>\n",
       "      <th>Coupon rate(%)</th>\n",
       "      <th>Maturity</th>\n",
       "      <th>Price</th>\n",
       "    </tr>\n",
       "  </thead>\n",
       "  <tbody>\n",
       "    <tr>\n",
       "      <th>0</th>\n",
       "      <td>2.75</td>\n",
       "      <td>2024-04-21</td>\n",
       "      <td>99.78</td>\n",
       "    </tr>\n",
       "    <tr>\n",
       "      <th>1</th>\n",
       "      <td>0.25</td>\n",
       "      <td>2024-11-21</td>\n",
       "      <td>97.31</td>\n",
       "    </tr>\n",
       "    <tr>\n",
       "      <th>2</th>\n",
       "      <td>3.25</td>\n",
       "      <td>2025-04-21</td>\n",
       "      <td>99.19</td>\n",
       "    </tr>\n",
       "    <tr>\n",
       "      <th>3</th>\n",
       "      <td>0.25</td>\n",
       "      <td>2025-11-21</td>\n",
       "      <td>94.18</td>\n",
       "    </tr>\n",
       "    <tr>\n",
       "      <th>4</th>\n",
       "      <td>4.25</td>\n",
       "      <td>2026-04-21</td>\n",
       "      <td>101.02</td>\n",
       "    </tr>\n",
       "  </tbody>\n",
       "</table>\n",
       "</div>"
      ],
      "text/plain": [
       "   Coupon rate(%)   Maturity   Price\n",
       "0            2.75 2024-04-21   99.78\n",
       "1            0.25 2024-11-21   97.31\n",
       "2            3.25 2025-04-21   99.19\n",
       "3            0.25 2025-11-21   94.18\n",
       "4            4.25 2026-04-21  101.02"
      ]
     },
     "execution_count": 7,
     "metadata": {},
     "output_type": "execute_result"
    }
   ],
   "source": [
    "df=pd.DataFrame({'Coupon rate(%)':rates,'Maturity':dates,'Price':AGB.iloc[:,-1]})\n",
    "df.head()"
   ]
  },
  {
   "cell_type": "code",
   "execution_count": 8,
   "id": "0581a6d8",
   "metadata": {},
   "outputs": [],
   "source": [
    "today = dt.datetime(2024,3,1)"
   ]
  },
  {
   "cell_type": "code",
   "execution_count": 9,
   "id": "faeaabfd",
   "metadata": {},
   "outputs": [],
   "source": [
    "DTN =[]\n",
    "DPN=[]\n",
    "N = []\n",
    "for i in range(len(df)):\n",
    "    mat = df.loc[i,'Maturity']\n",
    "    # find the date of the next coupon paid\n",
    "    if mat.month-6 >= 3 :\n",
    "        next_coupon=dt.datetime(today.year,mat.month-6,mat.day)\n",
    "    else:\n",
    "        next_coupon=dt.datetime(today.year,mat.month,mat.day)\n",
    "        \n",
    "\n",
    "    \n",
    "    # find d_pn\n",
    "    Cmonth = next_coupon.month\n",
    "    if  Cmonth<= 6:\n",
    "        next_coupon_date = next_coupon.replace(month=Cmonth+6)\n",
    "        diff_pn=next_coupon_date - next_coupon\n",
    "        diff_pn=diff_pn.days\n",
    "    else:\n",
    "        previous_coupon_date = next_coupon.replace(month=Cmonth-6)\n",
    "        diff_pn= next_coupon-previous_coupon_date \n",
    "        diff_pn=diff_pn.days\n",
    "    # find d_tn\n",
    "    if today < next_coupon:\n",
    "        diff_tn = next_coupon - today\n",
    "        diff_tn = diff_tn.days\n",
    "    else: \n",
    "        diff_tn = next_coupon_date - today\n",
    "        diff_tn = diff_tn.days\n",
    "    # find the number of coupon remaining\n",
    "    n = round((mat - next_coupon).days/diff_pn + 1)\n",
    "    N.append(n)\n",
    "    DTN.append(diff_tn)\n",
    "    DPN.append(diff_pn)"
   ]
  },
  {
   "cell_type": "code",
   "execution_count": 10,
   "id": "6a678381",
   "metadata": {},
   "outputs": [],
   "source": [
    "df['DTN']=DTN\n",
    "df['DPN']=DPN\n",
    "df['N']=N"
   ]
  },
  {
   "cell_type": "code",
   "execution_count": 11,
   "id": "73738bdd",
   "metadata": {},
   "outputs": [
    {
     "data": {
      "text/html": [
       "<div>\n",
       "<style scoped>\n",
       "    .dataframe tbody tr th:only-of-type {\n",
       "        vertical-align: middle;\n",
       "    }\n",
       "\n",
       "    .dataframe tbody tr th {\n",
       "        vertical-align: top;\n",
       "    }\n",
       "\n",
       "    .dataframe thead th {\n",
       "        text-align: right;\n",
       "    }\n",
       "</style>\n",
       "<table border=\"1\" class=\"dataframe\">\n",
       "  <thead>\n",
       "    <tr style=\"text-align: right;\">\n",
       "      <th></th>\n",
       "      <th>Coupon rate(%)</th>\n",
       "      <th>Maturity</th>\n",
       "      <th>Price</th>\n",
       "      <th>DTN</th>\n",
       "      <th>DPN</th>\n",
       "      <th>N</th>\n",
       "    </tr>\n",
       "  </thead>\n",
       "  <tbody>\n",
       "    <tr>\n",
       "      <th>0</th>\n",
       "      <td>2.75</td>\n",
       "      <td>2024-04-21</td>\n",
       "      <td>99.78</td>\n",
       "      <td>51</td>\n",
       "      <td>183</td>\n",
       "      <td>1</td>\n",
       "    </tr>\n",
       "    <tr>\n",
       "      <th>1</th>\n",
       "      <td>0.25</td>\n",
       "      <td>2024-11-21</td>\n",
       "      <td>97.31</td>\n",
       "      <td>81</td>\n",
       "      <td>184</td>\n",
       "      <td>2</td>\n",
       "    </tr>\n",
       "    <tr>\n",
       "      <th>2</th>\n",
       "      <td>3.25</td>\n",
       "      <td>2025-04-21</td>\n",
       "      <td>99.19</td>\n",
       "      <td>51</td>\n",
       "      <td>183</td>\n",
       "      <td>3</td>\n",
       "    </tr>\n",
       "    <tr>\n",
       "      <th>3</th>\n",
       "      <td>0.25</td>\n",
       "      <td>2025-11-21</td>\n",
       "      <td>94.18</td>\n",
       "      <td>81</td>\n",
       "      <td>184</td>\n",
       "      <td>4</td>\n",
       "    </tr>\n",
       "    <tr>\n",
       "      <th>4</th>\n",
       "      <td>4.25</td>\n",
       "      <td>2026-04-21</td>\n",
       "      <td>101.02</td>\n",
       "      <td>51</td>\n",
       "      <td>183</td>\n",
       "      <td>5</td>\n",
       "    </tr>\n",
       "  </tbody>\n",
       "</table>\n",
       "</div>"
      ],
      "text/plain": [
       "   Coupon rate(%)   Maturity   Price  DTN  DPN  N\n",
       "0            2.75 2024-04-21   99.78   51  183  1\n",
       "1            0.25 2024-11-21   97.31   81  184  2\n",
       "2            3.25 2025-04-21   99.19   51  183  3\n",
       "3            0.25 2025-11-21   94.18   81  184  4\n",
       "4            4.25 2026-04-21  101.02   51  183  5"
      ]
     },
     "execution_count": 11,
     "metadata": {},
     "output_type": "execute_result"
    }
   ],
   "source": [
    "df.head()"
   ]
  },
  {
   "cell_type": "code",
   "execution_count": 12,
   "id": "7f2af0a9",
   "metadata": {},
   "outputs": [],
   "source": [
    "def Yield(y,dtn,dpn,c,n,P):\n",
    "    if dtn <= 7:\n",
    "        k=0\n",
    "        \n",
    "    else:\n",
    "        k=1\n",
    "    return (1+y/2)**(-dtn/dpn) * (c*k + c*(1-(1+y/2)**(1-n))/(y/2) + 100*(1+y/2)**(1-n)) - P"
   ]
  },
  {
   "cell_type": "code",
   "execution_count": 13,
   "id": "87f654c1",
   "metadata": {},
   "outputs": [],
   "source": [
    "y_list=[]\n",
    "for i in range(len(df)):\n",
    "    \n",
    "    dtn = df.loc[i,'DTN']\n",
    "    dpn = df.loc[i,'DPN']\n",
    "    c = 100 * df.loc[i,'Coupon rate(%)']/100 / 2\n",
    "    n = df.loc[i,'N']\n",
    "    P = df.loc[i,'Price']\n",
    "    \n",
    "    sol = optimize.root_scalar(Yield, bracket=[0.00001,1], args=(dtn,dpn,c,n,P))\n",
    "    y = sol.root\n",
    "    y_list.append(y)"
   ]
  },
  {
   "cell_type": "code",
   "execution_count": 24,
   "id": "ea5191eb",
   "metadata": {},
   "outputs": [
    {
     "name": "stdout",
     "output_type": "stream",
     "text": [
      "[0.11711033009161011, 0.041801502527714834, 0.05058493199004296, 0.03820339439665026, 0.04501746689486407, 0.03774396898696412, 0.04298785874002966, 0.039686406178953, 0.03914444907075574, 0.03941501123250419, 0.040523225597562176, 0.04006436605181293, 0.0404015381539566, 0.039946847172661865, 0.04055442717317515, 0.04088005087657785, 0.041359442778004844, 0.04195736812156366, 0.04339290870984141, 0.04229444295596791, 0.04258054604356768, 0.04239102687478535, 0.042334677132422505, 0.04478663572282848, 0.04403491469107277, 0.044825294073465104, 0.0459355198610368, 0.045400839757745046, 0.04535478919233684]\n"
     ]
    }
   ],
   "source": [
    "print(y_list)"
   ]
  },
  {
   "cell_type": "code",
   "execution_count": 25,
   "id": "9c3592ee",
   "metadata": {},
   "outputs": [
    {
     "name": "stdout",
     "output_type": "stream",
     "text": [
      "[1, 2, 3, 4, 5, 6, 7, 8, 9, 10, 11, 12, 13, 14, 15, 16, 17, 18, 19, 20, 21, 22, 23, 27, 31, 35, 47, 55, 61]\n"
     ]
    }
   ],
   "source": [
    "print(N)"
   ]
  },
  {
   "cell_type": "markdown",
   "id": "28e72859",
   "metadata": {},
   "source": [
    "(b)"
   ]
  },
  {
   "cell_type": "code",
   "execution_count": 14,
   "id": "d5f324c2",
   "metadata": {},
   "outputs": [],
   "source": [
    "Price = df['Price']\n",
    "coupon = 100 * df.loc[:,'Coupon rate(%)']/100 / 2"
   ]
  },
  {
   "cell_type": "code",
   "execution_count": 15,
   "id": "0d8b69f5",
   "metadata": {},
   "outputs": [
    {
     "data": {
      "text/html": [
       "<div>\n",
       "<style scoped>\n",
       "    .dataframe tbody tr th:only-of-type {\n",
       "        vertical-align: middle;\n",
       "    }\n",
       "\n",
       "    .dataframe tbody tr th {\n",
       "        vertical-align: top;\n",
       "    }\n",
       "\n",
       "    .dataframe thead th {\n",
       "        text-align: right;\n",
       "    }\n",
       "</style>\n",
       "<table border=\"1\" class=\"dataframe\">\n",
       "  <thead>\n",
       "    <tr style=\"text-align: right;\">\n",
       "      <th></th>\n",
       "      <th>Coupon rate(%)</th>\n",
       "      <th>Maturity</th>\n",
       "      <th>Price</th>\n",
       "      <th>DTN</th>\n",
       "      <th>DPN</th>\n",
       "      <th>N</th>\n",
       "    </tr>\n",
       "  </thead>\n",
       "  <tbody>\n",
       "    <tr>\n",
       "      <th>0</th>\n",
       "      <td>2.75</td>\n",
       "      <td>2024-04-21</td>\n",
       "      <td>99.78</td>\n",
       "      <td>51</td>\n",
       "      <td>183</td>\n",
       "      <td>1</td>\n",
       "    </tr>\n",
       "    <tr>\n",
       "      <th>1</th>\n",
       "      <td>0.25</td>\n",
       "      <td>2024-11-21</td>\n",
       "      <td>97.31</td>\n",
       "      <td>81</td>\n",
       "      <td>184</td>\n",
       "      <td>2</td>\n",
       "    </tr>\n",
       "    <tr>\n",
       "      <th>2</th>\n",
       "      <td>3.25</td>\n",
       "      <td>2025-04-21</td>\n",
       "      <td>99.19</td>\n",
       "      <td>51</td>\n",
       "      <td>183</td>\n",
       "      <td>3</td>\n",
       "    </tr>\n",
       "    <tr>\n",
       "      <th>3</th>\n",
       "      <td>0.25</td>\n",
       "      <td>2025-11-21</td>\n",
       "      <td>94.18</td>\n",
       "      <td>81</td>\n",
       "      <td>184</td>\n",
       "      <td>4</td>\n",
       "    </tr>\n",
       "    <tr>\n",
       "      <th>4</th>\n",
       "      <td>4.25</td>\n",
       "      <td>2026-04-21</td>\n",
       "      <td>101.02</td>\n",
       "      <td>51</td>\n",
       "      <td>183</td>\n",
       "      <td>5</td>\n",
       "    </tr>\n",
       "  </tbody>\n",
       "</table>\n",
       "</div>"
      ],
      "text/plain": [
       "   Coupon rate(%)   Maturity   Price  DTN  DPN  N\n",
       "0            2.75 2024-04-21   99.78   51  183  1\n",
       "1            0.25 2024-11-21   97.31   81  184  2\n",
       "2            3.25 2025-04-21   99.19   51  183  3\n",
       "3            0.25 2025-11-21   94.18   81  184  4\n",
       "4            4.25 2026-04-21  101.02   51  183  5"
      ]
     },
     "execution_count": 15,
     "metadata": {},
     "output_type": "execute_result"
    }
   ],
   "source": [
    "df.head()"
   ]
  },
  {
   "cell_type": "code",
   "execution_count": 16,
   "id": "3bc1688d",
   "metadata": {},
   "outputs": [
    {
     "name": "stderr",
     "output_type": "stream",
     "text": [
      "C:\\Users\\1tran\\AppData\\Local\\Temp\\ipykernel_4364\\2160127538.py:26: FutureWarning: Setting an item of incompatible dtype is deprecated and will raise an error in a future version of pandas. Value '0.9842663378545006' has dtype incompatible with int64, please explicitly cast to a compatible dtype first.\n",
      "  zerodf_bybond.loc[j,'ZeroBondPrice']=ZeroDF.loc[Timelist==times[j],'ZeroBondPrice'].values[0]\n",
      "C:\\Users\\1tran\\AppData\\Local\\Temp\\ipykernel_4364\\2160127538.py:26: FutureWarning: Setting an item of incompatible dtype is deprecated and will raise an error in a future version of pandas. Value '0.9823472950027387' has dtype incompatible with int64, please explicitly cast to a compatible dtype first.\n",
      "  zerodf_bybond.loc[j,'ZeroBondPrice']=ZeroDF.loc[Timelist==times[j],'ZeroBondPrice'].values[0]\n",
      "C:\\Users\\1tran\\AppData\\Local\\Temp\\ipykernel_4364\\2160127538.py:26: FutureWarning: Setting an item of incompatible dtype is deprecated and will raise an error in a future version of pandas. Value '0.9842663378545006' has dtype incompatible with int64, please explicitly cast to a compatible dtype first.\n",
      "  zerodf_bybond.loc[j,'ZeroBondPrice']=ZeroDF.loc[Timelist==times[j],'ZeroBondPrice'].values[0]\n",
      "C:\\Users\\1tran\\AppData\\Local\\Temp\\ipykernel_4364\\2160127538.py:40: FutureWarning: Setting an item of incompatible dtype is deprecated and will raise an error in a future version of pandas. Value '0.9996626367069747' has dtype incompatible with int64, please explicitly cast to a compatible dtype first.\n",
      "  zerodf_bybond.loc[j,'ZeroBondPrice']=interpolate(B_right_mat,B_left_mat,times[j],left_mat)\n",
      "C:\\Users\\1tran\\AppData\\Local\\Temp\\ipykernel_4364\\2160127538.py:26: FutureWarning: Setting an item of incompatible dtype is deprecated and will raise an error in a future version of pandas. Value '0.9842663378545006' has dtype incompatible with int64, please explicitly cast to a compatible dtype first.\n",
      "  zerodf_bybond.loc[j,'ZeroBondPrice']=ZeroDF.loc[Timelist==times[j],'ZeroBondPrice'].values[0]\n",
      "C:\\Users\\1tran\\AppData\\Local\\Temp\\ipykernel_4364\\2160127538.py:26: FutureWarning: Setting an item of incompatible dtype is deprecated and will raise an error in a future version of pandas. Value '0.9823472950027387' has dtype incompatible with int64, please explicitly cast to a compatible dtype first.\n",
      "  zerodf_bybond.loc[j,'ZeroBondPrice']=ZeroDF.loc[Timelist==times[j],'ZeroBondPrice'].values[0]\n",
      "C:\\Users\\1tran\\AppData\\Local\\Temp\\ipykernel_4364\\2160127538.py:26: FutureWarning: Setting an item of incompatible dtype is deprecated and will raise an error in a future version of pandas. Value '0.9823472950027387' has dtype incompatible with int64, please explicitly cast to a compatible dtype first.\n",
      "  zerodf_bybond.loc[j,'ZeroBondPrice']=ZeroDF.loc[Timelist==times[j],'ZeroBondPrice'].values[0]\n",
      "C:\\Users\\1tran\\AppData\\Local\\Temp\\ipykernel_4364\\2160127538.py:26: FutureWarning: Setting an item of incompatible dtype is deprecated and will raise an error in a future version of pandas. Value '0.9823472950027387' has dtype incompatible with int64, please explicitly cast to a compatible dtype first.\n",
      "  zerodf_bybond.loc[j,'ZeroBondPrice']=ZeroDF.loc[Timelist==times[j],'ZeroBondPrice'].values[0]\n",
      "C:\\Users\\1tran\\AppData\\Local\\Temp\\ipykernel_4364\\2160127538.py:26: FutureWarning: Setting an item of incompatible dtype is deprecated and will raise an error in a future version of pandas. Value '0.9842663378545006' has dtype incompatible with int64, please explicitly cast to a compatible dtype first.\n",
      "  zerodf_bybond.loc[j,'ZeroBondPrice']=ZeroDF.loc[Timelist==times[j],'ZeroBondPrice'].values[0]\n",
      "C:\\Users\\1tran\\AppData\\Local\\Temp\\ipykernel_4364\\2160127538.py:26: FutureWarning: Setting an item of incompatible dtype is deprecated and will raise an error in a future version of pandas. Value '0.9823472950027387' has dtype incompatible with int64, please explicitly cast to a compatible dtype first.\n",
      "  zerodf_bybond.loc[j,'ZeroBondPrice']=ZeroDF.loc[Timelist==times[j],'ZeroBondPrice'].values[0]\n",
      "C:\\Users\\1tran\\AppData\\Local\\Temp\\ipykernel_4364\\2160127538.py:26: FutureWarning: Setting an item of incompatible dtype is deprecated and will raise an error in a future version of pandas. Value '0.9823472950027387' has dtype incompatible with int64, please explicitly cast to a compatible dtype first.\n",
      "  zerodf_bybond.loc[j,'ZeroBondPrice']=ZeroDF.loc[Timelist==times[j],'ZeroBondPrice'].values[0]\n",
      "C:\\Users\\1tran\\AppData\\Local\\Temp\\ipykernel_4364\\2160127538.py:40: FutureWarning: Setting an item of incompatible dtype is deprecated and will raise an error in a future version of pandas. Value '0.9821960543301809' has dtype incompatible with int64, please explicitly cast to a compatible dtype first.\n",
      "  zerodf_bybond.loc[j,'ZeroBondPrice']=interpolate(B_right_mat,B_left_mat,times[j],left_mat)\n",
      "C:\\Users\\1tran\\AppData\\Local\\Temp\\ipykernel_4364\\2160127538.py:40: FutureWarning: Setting an item of incompatible dtype is deprecated and will raise an error in a future version of pandas. Value '0.9822067273200672' has dtype incompatible with int64, please explicitly cast to a compatible dtype first.\n",
      "  zerodf_bybond.loc[j,'ZeroBondPrice']=interpolate(B_right_mat,B_left_mat,times[j],left_mat)\n",
      "C:\\Users\\1tran\\AppData\\Local\\Temp\\ipykernel_4364\\2160127538.py:26: FutureWarning: Setting an item of incompatible dtype is deprecated and will raise an error in a future version of pandas. Value '0.9823472950027387' has dtype incompatible with int64, please explicitly cast to a compatible dtype first.\n",
      "  zerodf_bybond.loc[j,'ZeroBondPrice']=ZeroDF.loc[Timelist==times[j],'ZeroBondPrice'].values[0]\n",
      "C:\\Users\\1tran\\AppData\\Local\\Temp\\ipykernel_4364\\2160127538.py:26: FutureWarning: Setting an item of incompatible dtype is deprecated and will raise an error in a future version of pandas. Value '0.9823472950027387' has dtype incompatible with int64, please explicitly cast to a compatible dtype first.\n",
      "  zerodf_bybond.loc[j,'ZeroBondPrice']=ZeroDF.loc[Timelist==times[j],'ZeroBondPrice'].values[0]\n",
      "C:\\Users\\1tran\\AppData\\Local\\Temp\\ipykernel_4364\\2160127538.py:26: FutureWarning: Setting an item of incompatible dtype is deprecated and will raise an error in a future version of pandas. Value '0.9823472950027387' has dtype incompatible with int64, please explicitly cast to a compatible dtype first.\n",
      "  zerodf_bybond.loc[j,'ZeroBondPrice']=ZeroDF.loc[Timelist==times[j],'ZeroBondPrice'].values[0]\n",
      "C:\\Users\\1tran\\AppData\\Local\\Temp\\ipykernel_4364\\2160127538.py:26: FutureWarning: Setting an item of incompatible dtype is deprecated and will raise an error in a future version of pandas. Value '0.9842663378545006' has dtype incompatible with int64, please explicitly cast to a compatible dtype first.\n",
      "  zerodf_bybond.loc[j,'ZeroBondPrice']=ZeroDF.loc[Timelist==times[j],'ZeroBondPrice'].values[0]\n",
      "C:\\Users\\1tran\\AppData\\Local\\Temp\\ipykernel_4364\\2160127538.py:26: FutureWarning: Setting an item of incompatible dtype is deprecated and will raise an error in a future version of pandas. Value '0.9823472950027387' has dtype incompatible with int64, please explicitly cast to a compatible dtype first.\n",
      "  zerodf_bybond.loc[j,'ZeroBondPrice']=ZeroDF.loc[Timelist==times[j],'ZeroBondPrice'].values[0]\n",
      "C:\\Users\\1tran\\AppData\\Local\\Temp\\ipykernel_4364\\2160127538.py:26: FutureWarning: Setting an item of incompatible dtype is deprecated and will raise an error in a future version of pandas. Value '0.9823472950027387' has dtype incompatible with int64, please explicitly cast to a compatible dtype first.\n",
      "  zerodf_bybond.loc[j,'ZeroBondPrice']=ZeroDF.loc[Timelist==times[j],'ZeroBondPrice'].values[0]\n",
      "C:\\Users\\1tran\\AppData\\Local\\Temp\\ipykernel_4364\\2160127538.py:40: FutureWarning: Setting an item of incompatible dtype is deprecated and will raise an error in a future version of pandas. Value '0.9822532060443224' has dtype incompatible with int64, please explicitly cast to a compatible dtype first.\n",
      "  zerodf_bybond.loc[j,'ZeroBondPrice']=interpolate(B_right_mat,B_left_mat,times[j],left_mat)\n",
      "C:\\Users\\1tran\\AppData\\Local\\Temp\\ipykernel_4364\\2160127538.py:40: FutureWarning: Setting an item of incompatible dtype is deprecated and will raise an error in a future version of pandas. Value '0.9822574499417781' has dtype incompatible with int64, please explicitly cast to a compatible dtype first.\n",
      "  zerodf_bybond.loc[j,'ZeroBondPrice']=interpolate(B_right_mat,B_left_mat,times[j],left_mat)\n",
      "C:\\Users\\1tran\\AppData\\Local\\Temp\\ipykernel_4364\\2160127538.py:26: FutureWarning: Setting an item of incompatible dtype is deprecated and will raise an error in a future version of pandas. Value '0.9842663378545006' has dtype incompatible with int64, please explicitly cast to a compatible dtype first.\n",
      "  zerodf_bybond.loc[j,'ZeroBondPrice']=ZeroDF.loc[Timelist==times[j],'ZeroBondPrice'].values[0]\n",
      "C:\\Users\\1tran\\AppData\\Local\\Temp\\ipykernel_4364\\2160127538.py:40: FutureWarning: Setting an item of incompatible dtype is deprecated and will raise an error in a future version of pandas. Value '0.9822812732978877' has dtype incompatible with int64, please explicitly cast to a compatible dtype first.\n",
      "  zerodf_bybond.loc[j,'ZeroBondPrice']=interpolate(B_right_mat,B_left_mat,times[j],left_mat)\n",
      "C:\\Users\\1tran\\AppData\\Local\\Temp\\ipykernel_4364\\2160127538.py:26: FutureWarning: Setting an item of incompatible dtype is deprecated and will raise an error in a future version of pandas. Value '0.9823472950027387' has dtype incompatible with int64, please explicitly cast to a compatible dtype first.\n",
      "  zerodf_bybond.loc[j,'ZeroBondPrice']=ZeroDF.loc[Timelist==times[j],'ZeroBondPrice'].values[0]\n",
      "C:\\Users\\1tran\\AppData\\Local\\Temp\\ipykernel_4364\\2160127538.py:40: FutureWarning: Setting an item of incompatible dtype is deprecated and will raise an error in a future version of pandas. Value '0.9999626156210135' has dtype incompatible with int64, please explicitly cast to a compatible dtype first.\n",
      "  zerodf_bybond.loc[j,'ZeroBondPrice']=interpolate(B_right_mat,B_left_mat,times[j],left_mat)\n",
      "C:\\Users\\1tran\\AppData\\Local\\Temp\\ipykernel_4364\\2160127538.py:40: FutureWarning: Setting an item of incompatible dtype is deprecated and will raise an error in a future version of pandas. Value '0.9823105239687856' has dtype incompatible with int64, please explicitly cast to a compatible dtype first.\n",
      "  zerodf_bybond.loc[j,'ZeroBondPrice']=interpolate(B_right_mat,B_left_mat,times[j],left_mat)\n",
      "C:\\Users\\1tran\\AppData\\Local\\Temp\\ipykernel_4364\\2160127538.py:40: FutureWarning: Setting an item of incompatible dtype is deprecated and will raise an error in a future version of pandas. Value '0.9823141906580033' has dtype incompatible with int64, please explicitly cast to a compatible dtype first.\n",
      "  zerodf_bybond.loc[j,'ZeroBondPrice']=interpolate(B_right_mat,B_left_mat,times[j],left_mat)\n"
     ]
    },
    {
     "data": {
      "text/html": [
       "<div>\n",
       "<style scoped>\n",
       "    .dataframe tbody tr th:only-of-type {\n",
       "        vertical-align: middle;\n",
       "    }\n",
       "\n",
       "    .dataframe tbody tr th {\n",
       "        vertical-align: top;\n",
       "    }\n",
       "\n",
       "    .dataframe thead th {\n",
       "        text-align: right;\n",
       "    }\n",
       "</style>\n",
       "<table border=\"1\" class=\"dataframe\">\n",
       "  <thead>\n",
       "    <tr style=\"text-align: right;\">\n",
       "      <th></th>\n",
       "      <th>TimetoMaturity</th>\n",
       "      <th>ZeroBondPrice</th>\n",
       "    </tr>\n",
       "  </thead>\n",
       "  <tbody>\n",
       "    <tr>\n",
       "      <th>0</th>\n",
       "      <td>0.0</td>\n",
       "      <td>1.000000</td>\n",
       "    </tr>\n",
       "    <tr>\n",
       "      <th>1</th>\n",
       "      <td>51.0</td>\n",
       "      <td>0.984266</td>\n",
       "    </tr>\n",
       "    <tr>\n",
       "      <th>2</th>\n",
       "      <td>81.0</td>\n",
       "      <td>0.982347</td>\n",
       "    </tr>\n",
       "    <tr>\n",
       "      <th>3</th>\n",
       "      <td>265.0</td>\n",
       "      <td>0.970659</td>\n",
       "    </tr>\n",
       "    <tr>\n",
       "      <th>4</th>\n",
       "      <td>234.0</td>\n",
       "      <td>0.977007</td>\n",
       "    </tr>\n",
       "    <tr>\n",
       "      <th>...</th>\n",
       "      <td>...</td>\n",
       "      <td>...</td>\n",
       "    </tr>\n",
       "    <tr>\n",
       "      <th>81</th>\n",
       "      <td>9628.0</td>\n",
       "      <td>0.280862</td>\n",
       "    </tr>\n",
       "    <tr>\n",
       "      <th>82</th>\n",
       "      <td>9811.0</td>\n",
       "      <td>0.261053</td>\n",
       "    </tr>\n",
       "    <tr>\n",
       "      <th>83</th>\n",
       "      <td>9994.0</td>\n",
       "      <td>0.242642</td>\n",
       "    </tr>\n",
       "    <tr>\n",
       "      <th>84</th>\n",
       "      <td>8164.0</td>\n",
       "      <td>0.564144</td>\n",
       "    </tr>\n",
       "    <tr>\n",
       "      <th>85</th>\n",
       "      <td>10177.0</td>\n",
       "      <td>0.196850</td>\n",
       "    </tr>\n",
       "  </tbody>\n",
       "</table>\n",
       "<p>86 rows × 2 columns</p>\n",
       "</div>"
      ],
      "text/plain": [
       "    TimetoMaturity  ZeroBondPrice\n",
       "0              0.0       1.000000\n",
       "1             51.0       0.984266\n",
       "2             81.0       0.982347\n",
       "3            265.0       0.970659\n",
       "4            234.0       0.977007\n",
       "..             ...            ...\n",
       "81          9628.0       0.280862\n",
       "82          9811.0       0.261053\n",
       "83          9994.0       0.242642\n",
       "84          8164.0       0.564144\n",
       "85         10177.0       0.196850\n",
       "\n",
       "[86 rows x 2 columns]"
      ]
     },
     "execution_count": 16,
     "metadata": {},
     "output_type": "execute_result"
    }
   ],
   "source": [
    "# make a function for the interpolation\n",
    "def interpolate(B_right_mat,B_left_mat,time,left_mat):\n",
    "    return np.exp( np.log(B_left_mat) + (time/365-left_mat/365)/(times[-1]/365-left_mat/365) * (np.log(B_right_mat) - np.log(B_left_mat))) \n",
    "\n",
    "for i in range(len(df)):\n",
    "    #print(i)\n",
    "    # for the first bond\n",
    "    if i ==0:\n",
    "        B_mat1=Price[0]/(coupon[0]+100)\n",
    "        times=(DTN[0] + DPN[0] * np.array(range(N[0])))\n",
    "        # make a dataframe for all zero coupon bonds\n",
    "        ZeroDF = pd.DataFrame({'TimetoMaturity':[0,times[0]],'ZeroBondPrice':[1,B_mat1]}) \n",
    "    # for other bonds\n",
    "    else:\n",
    "        \n",
    "        times=(DTN[i] + DPN[i] * np.array(range(N[i])))\n",
    "        #print(times)\n",
    "        zerodf_bybond = pd.DataFrame({'TimetoMaturity':times,'ZeroBondPrice':[0]*len(times)})\n",
    "        Missing_time = []    \n",
    "        \n",
    "        for j in range(len(times)):\n",
    "            \n",
    "            Timelist=list(ZeroDF['TimetoMaturity'])\n",
    "            # if there is already zero coupon bond price in the 'ZeroDF ''\n",
    "            if times[j] in Timelist:\n",
    "                zerodf_bybond.loc[j,'ZeroBondPrice']=ZeroDF.loc[Timelist==times[j],'ZeroBondPrice'].values[0]\n",
    "            else:\n",
    "            # find the zero coupon price on the left of unknown time\n",
    "                left_std_subset = np.where(Timelist < times[j])\n",
    "                left_index=max(left_std_subset[0])\n",
    "                left_mat = Timelist[left_index]\n",
    "                B_left_mat = ZeroDF.loc[ZeroDF['TimetoMaturity'] == left_mat,'ZeroBondPrice'].values[0]\n",
    "                right_std_subset = np.where(Timelist > times[j])\n",
    "            # find the zero coupon price on the right of unknown time\n",
    "                if right_std_subset[0].any() == True:\n",
    "                    right_index=min(right_std_subset[0])\n",
    "                    right_mat = Timelist[right_index]\n",
    "                    B_right_mat = ZeroDF.loc[ZeroDF['TimetoMaturity'] == right_mat,'ZeroBondPrice'].values[0]\n",
    "                    \n",
    "                    zerodf_bybond.loc[j,'ZeroBondPrice']=interpolate(B_right_mat,B_left_mat,times[j],left_mat)\n",
    "                    ZeroDF.loc[-1] = [times[j],interpolate(B_right_mat,B_left_mat,times[j],left_mat)]\n",
    "            # if there is not zero coupon price on the right\n",
    "                else:                    \n",
    "                    Missing_time.append(times[j])\n",
    "        # make a function for the summation of zero coupon prices of unknown times in terms of price at the maturity of the bond    \n",
    "        def sums(B_mat,option):\n",
    "            Missing_df = []\n",
    "            \n",
    "            for k in range(len(Missing_time)):\n",
    "                missing = interpolate(B_mat,B_left_mat,Missing_time[k],left_mat)\n",
    "                Missing_df.append(missing)\n",
    "            sums = sum(Missing_df)\n",
    "            if option == 'Sum':\n",
    "                \n",
    "                return sums\n",
    "            if option == 'List':\n",
    "                return Missing_df # return the list \n",
    "            \n",
    "        # make a function to get the zero coupon bond price of the maturity using pricing formula of the bond\n",
    "        \n",
    "        def get(B_mat):\n",
    "            return coupon[i]*(sums(B_mat,'Sum')+sum(list(zerodf_bybond['ZeroBondPrice'])))+ 100*B_mat - Price[i]\n",
    "        sol = optimize.root_scalar(get, bracket=[0.000001,5])\n",
    "        y = sol.root\n",
    "        #print(zerodf_bybond)\n",
    "        Adding_df = pd.DataFrame({'TimetoMaturity':Missing_time,'ZeroBondPrice':sums(y,'List')})\n",
    "        #ZeroDF = pd.concat([ZeroDF, zerodf_bybond]).drop_duplicates()\n",
    "        # add obtained zero coupon prices on 'ZeroDF'\n",
    "        ZeroDF=pd.concat([ZeroDF,Adding_df],axis=0, ignore_index=True)\n",
    "        \n",
    "ZeroDF.head(-5)\n",
    "        "
   ]
  },
  {
   "cell_type": "markdown",
   "id": "48e7f3d1",
   "metadata": {},
   "source": [
    "(c) - first of all, find a price"
   ]
  },
  {
   "cell_type": "code",
   "execution_count": 37,
   "id": "b4c66b9d",
   "metadata": {},
   "outputs": [],
   "source": [
    "Coupon = 100 * 4/100 / 2\n",
    "next_coupondate = dt.datetime(2024,9,1)\n",
    "dtn = (next_coupondate - today).days\n",
    "dpn=dtn\n",
    "maturity = dt.datetime(2044,2,28)\n",
    "coupon_number = round((maturity - next_coupondate).days / dpn)\n",
    "days_to_maturity = (maturity - today).days"
   ]
  },
  {
   "cell_type": "code",
   "execution_count": 38,
   "id": "6d8c0a32",
   "metadata": {},
   "outputs": [
    {
     "data": {
      "text/plain": [
       "39"
      ]
     },
     "execution_count": 38,
     "metadata": {},
     "output_type": "execute_result"
    }
   ],
   "source": [
    "coupon_number"
   ]
  },
  {
   "cell_type": "code",
   "execution_count": 39,
   "id": "397fa9e7",
   "metadata": {},
   "outputs": [
    {
     "data": {
      "text/plain": [
       "array([ 184,  368,  552,  736,  920, 1104, 1288, 1472, 1656, 1840, 2024,\n",
       "       2208, 2392, 2576, 2760, 2944, 3128, 3312, 3496, 3680, 3864, 4048,\n",
       "       4232, 4416, 4600, 4784, 4968, 5152, 5336, 5520, 5704, 5888, 6072,\n",
       "       6256, 6440, 6624, 6808, 6992, 7176, 7303])"
      ]
     },
     "execution_count": 39,
     "metadata": {},
     "output_type": "execute_result"
    }
   ],
   "source": [
    "times=(dtn + dtn * np.array(range(coupon_number)))\n",
    "times=np.append(times,days_to_maturity)\n",
    "times"
   ]
  },
  {
   "cell_type": "code",
   "execution_count": 40,
   "id": "ed968621",
   "metadata": {},
   "outputs": [],
   "source": [
    "Timelist = list(ZeroDF['TimetoMaturity'])\n",
    "zerodf_bybond = pd.DataFrame({'TimetoMaturity':times})\n",
    "for i in range(len(times)):\n",
    "    #print(i)\n",
    "    left_std_subset = np.where(Timelist < times[i])\n",
    "    left_index=max(left_std_subset[0])\n",
    "    left_mat = Timelist[left_index]\n",
    "    B_left_mat = ZeroDF.loc[ZeroDF['TimetoMaturity'] == left_mat,'ZeroBondPrice'].values[0]\n",
    "    right_std_subset = np.where(Timelist > times[i])\n",
    "    right_index=min(right_std_subset[0])\n",
    "    right_mat = Timelist[right_index]\n",
    "    B_right_mat = ZeroDF.loc[ZeroDF['TimetoMaturity'] == right_mat,'ZeroBondPrice'].values[0]\n",
    "    zerodf_bybond.loc[i,'ZeroBondPrice']=interpolate(B_right_mat,B_left_mat,times[i],left_mat)\n"
   ]
  },
  {
   "cell_type": "code",
   "execution_count": 41,
   "id": "35ffedac",
   "metadata": {},
   "outputs": [
    {
     "data": {
      "text/html": [
       "<div>\n",
       "<style scoped>\n",
       "    .dataframe tbody tr th:only-of-type {\n",
       "        vertical-align: middle;\n",
       "    }\n",
       "\n",
       "    .dataframe tbody tr th {\n",
       "        vertical-align: top;\n",
       "    }\n",
       "\n",
       "    .dataframe thead th {\n",
       "        text-align: right;\n",
       "    }\n",
       "</style>\n",
       "<table border=\"1\" class=\"dataframe\">\n",
       "  <thead>\n",
       "    <tr style=\"text-align: right;\">\n",
       "      <th></th>\n",
       "      <th>TimetoMaturity</th>\n",
       "      <th>ZeroBondPrice</th>\n",
       "    </tr>\n",
       "  </thead>\n",
       "  <tbody>\n",
       "    <tr>\n",
       "      <th>35</th>\n",
       "      <td>6624</td>\n",
       "      <td>0.606359</td>\n",
       "    </tr>\n",
       "    <tr>\n",
       "      <th>36</th>\n",
       "      <td>6808</td>\n",
       "      <td>0.556021</td>\n",
       "    </tr>\n",
       "    <tr>\n",
       "      <th>37</th>\n",
       "      <td>6992</td>\n",
       "      <td>0.508100</td>\n",
       "    </tr>\n",
       "    <tr>\n",
       "      <th>38</th>\n",
       "      <td>7176</td>\n",
       "      <td>0.459680</td>\n",
       "    </tr>\n",
       "    <tr>\n",
       "      <th>39</th>\n",
       "      <td>7303</td>\n",
       "      <td>0.408485</td>\n",
       "    </tr>\n",
       "  </tbody>\n",
       "</table>\n",
       "</div>"
      ],
      "text/plain": [
       "    TimetoMaturity  ZeroBondPrice\n",
       "35            6624       0.606359\n",
       "36            6808       0.556021\n",
       "37            6992       0.508100\n",
       "38            7176       0.459680\n",
       "39            7303       0.408485"
      ]
     },
     "execution_count": 41,
     "metadata": {},
     "output_type": "execute_result"
    }
   ],
   "source": [
    "zerodf_bybond.tail(5)"
   ]
  },
  {
   "cell_type": "code",
   "execution_count": 42,
   "id": "a4a92a0f",
   "metadata": {},
   "outputs": [
    {
     "data": {
      "text/plain": [
       "95.94508432414652"
      ]
     },
     "execution_count": 42,
     "metadata": {},
     "output_type": "execute_result"
    }
   ],
   "source": [
    "couponPrice = list(zerodf_bybond['ZeroBondPrice'])\n",
    "Bond_Price = Coupon * sum(couponPrice[1:len(couponPrice)-1]) + 100 * couponPrice[-1]\n",
    "Bond_Price"
   ]
  },
  {
   "cell_type": "markdown",
   "id": "207c0ed9",
   "metadata": {},
   "source": [
    "(c) find a yield"
   ]
  },
  {
   "cell_type": "code",
   "execution_count": 43,
   "id": "6ebea3f6",
   "metadata": {},
   "outputs": [
    {
     "data": {
      "text/plain": [
       "0.04309520796965001"
      ]
     },
     "execution_count": 43,
     "metadata": {},
     "output_type": "execute_result"
    }
   ],
   "source": [
    "# Considering the cash flow of the maturity\n",
    "def special_Yield(y,dtn,dpn,c,n,P):\n",
    "    if dtn <= 7:\n",
    "        k=0\n",
    "        \n",
    "    else:\n",
    "        k=1\n",
    "    return (1+y/2)**(-dtn/dpn) * (c*k + c*(1-(1+y/2)**(1-n))/(y/2) + 100*(1+y/2)**(-n)) - P\n",
    "sol = optimize.root_scalar(Yield, bracket=[0.00001,1], args=(dtn,dpn,Coupon,coupon_number,Bond_Price))\n",
    "bond_yield= sol.root\n",
    "bond_yield"
   ]
  },
  {
   "cell_type": "markdown",
   "id": "49c5cf46",
   "metadata": {},
   "source": [
    "(d)"
   ]
  },
  {
   "cell_type": "code",
   "execution_count": 44,
   "id": "7c193820",
   "metadata": {},
   "outputs": [],
   "source": [
    "def Yield(y,dtn,dpn,c,n,P):\n",
    "    if dtn <= 7:\n",
    "        k=0\n",
    "        \n",
    "    else:\n",
    "        k=1\n",
    "    return (1+y/2)**(-dtn/dpn) * (c*k + c*(1-(1+y/2)**(1-n))/(y/2) + 100*(1+y/2)**(1-n)) - P\n"
   ]
  },
  {
   "cell_type": "code",
   "execution_count": 45,
   "id": "5f02f0f5",
   "metadata": {},
   "outputs": [
    {
     "name": "stdout",
     "output_type": "stream",
     "text": [
      "0.042046782781942904\n"
     ]
    }
   ],
   "source": [
    "# find the AU000XCLWAP3's yield\n",
    "Bond_Price = 87.88\n",
    "Coupon = 100 * 3.25/100 / 2\n",
    "settlement_date = dt.datetime(2024,5,1)\n",
    "next_coupondate = dt.datetime(2024,6,21)\n",
    "dtn = (next_coupondate - today).days\n",
    "dpn=(dt.datetime(2024,12,21)-dt.datetime(2024,6,21)).days\n",
    "coupon_number = round((maturity - next_coupondate).days /dpn + 1)\n",
    "\n",
    "sol = optimize.root_scalar(Yield, bracket=[0.00001,1], args=(dtn,dpn,Coupon,coupon_number,Bond_Price))\n",
    "Now_yield = sol.root\n",
    "print(Now_yield)\n"
   ]
  },
  {
   "cell_type": "code",
   "execution_count": 46,
   "id": "ba75fef6",
   "metadata": {},
   "outputs": [
    {
     "name": "stdout",
     "output_type": "stream",
     "text": [
      "109.3837083295721\n"
     ]
    }
   ],
   "source": [
    "# find old yield\n",
    "Old_yield = Now_yield + 0.1/100*20\n",
    "w=dtn/dpn\n",
    "\n",
    "i=Old_yield/100\n",
    "k=2 # semi anuually paid\n",
    "n=coupon_number\n",
    "c = Coupon\n",
    "Settlement_Price = (1+i)**(-w) * (c + c*(1-(1+i)**(-5))/i + fv*(1+i)**(-5))\n",
    "print(Settlement_Price)"
   ]
  },
  {
   "cell_type": "code",
   "execution_count": 47,
   "id": "957593bb",
   "metadata": {},
   "outputs": [
    {
     "data": {
      "text/plain": [
       "1.4641525963672182"
      ]
     },
     "execution_count": 47,
     "metadata": {},
     "output_type": "execute_result"
    }
   ],
   "source": [
    "days = (settlement_date - today).days\n",
    "HP_Return = (Settlement_Price-Bond_Price)/Bond_Price *365/days\n",
    "HP_Return"
   ]
  },
  {
   "cell_type": "code",
   "execution_count": null,
   "id": "ffd1f440",
   "metadata": {},
   "outputs": [],
   "source": []
  }
 ],
 "metadata": {
  "kernelspec": {
   "display_name": "Python 3 (ipykernel)",
   "language": "python",
   "name": "python3"
  },
  "language_info": {
   "codemirror_mode": {
    "name": "ipython",
    "version": 3
   },
   "file_extension": ".py",
   "mimetype": "text/x-python",
   "name": "python",
   "nbconvert_exporter": "python",
   "pygments_lexer": "ipython3",
   "version": "3.12.2"
  }
 },
 "nbformat": 4,
 "nbformat_minor": 5
}
