{
 "cells": [
  {
   "cell_type": "markdown",
   "metadata": {},
   "source": [
    "# Whiteboard Tutorial 1\n"
   ]
  },
  {
   "cell_type": "markdown",
   "metadata": {},
   "source": [
    "## Import packages\n"
   ]
  },
  {
   "cell_type": "code",
   "execution_count": 1,
   "metadata": {},
   "outputs": [],
   "source": [
    "import numpy as np\n",
    "import math as mt"
   ]
  },
  {
   "cell_type": "markdown",
   "metadata": {},
   "source": [
    "## Question 1\n"
   ]
  },
  {
   "cell_type": "code",
   "execution_count": 28,
   "metadata": {},
   "outputs": [
    {
     "name": "stdout",
     "output_type": "stream",
     "text": [
      "Value of deposit: 100410.95890410958\n"
     ]
    }
   ],
   "source": [
    "p = 100000\n",
    "r = 0.05\n",
    "t = 3/12\n",
    "f = p * (1 + t*r)\n",
    "print('Value of deposit:', f)"
   ]
  },
  {
   "cell_type": "markdown",
   "metadata": {},
   "source": [
    "## Question 2\n"
   ]
  },
  {
   "cell_type": "code",
   "execution_count": 29,
   "metadata": {},
   "outputs": [
    {
     "name": "stdout",
     "output_type": "stream",
     "text": [
      "Quoted rate: 0.0\n"
     ]
    }
   ],
   "source": [
    "f = 100000\n",
    "o = 98704.5\n",
    "t = 3/12\n",
    "r = (f/p - 1)/t\n",
    "print('Quoted rate:', r)"
   ]
  },
  {
   "cell_type": "markdown",
   "metadata": {},
   "source": [
    "## Question 3\n"
   ]
  },
  {
   "cell_type": "code",
   "execution_count": 30,
   "metadata": {},
   "outputs": [
    {
     "name": "stdout",
     "output_type": "stream",
     "text": [
      "Value of deposit: 106159.88478182758\n"
     ]
    }
   ],
   "source": [
    "p = 100000\n",
    "r = 0.03\n",
    "freq = 4\n",
    "t = 2\n",
    "f = p*(1 + r/freq)**(freq*t)\n",
    "print('Value of deposit:', f)"
   ]
  },
  {
   "cell_type": "markdown",
   "metadata": {},
   "source": [
    "## Question 4\n"
   ]
  },
  {
   "cell_type": "code",
   "execution_count": 31,
   "metadata": {},
   "outputs": [
    {
     "name": "stdout",
     "output_type": "stream",
     "text": [
      "Monthly rate: 0.029925310946044448\n",
      "Daily rate: 0.02988930007816748\n"
     ]
    }
   ],
   "source": [
    "rq = 0.03\n",
    "rm = ((1+ rq/4)**(4/12)-1)*12\n",
    "rd = ((1+ rq/4)**(4/360)-1)*360\n",
    "print('Monthly rate:', rm)\n",
    "print('Daily rate:', rd)"
   ]
  },
  {
   "cell_type": "markdown",
   "metadata": {},
   "source": [
    "## Question 5\n"
   ]
  },
  {
   "cell_type": "code",
   "execution_count": 5,
   "metadata": {},
   "outputs": [
    {
     "name": "stdout",
     "output_type": "stream",
     "text": [
      "Value of annuity at 2.5 years: 5347.797402875879\n",
      "Value of annuity at maturity: 8853.99300025541\n"
     ]
    }
   ],
   "source": [
    "r = 0.045\n",
    "# At 2.5 years\n",
    "value = 1000\n",
    "for i in range(5):\n",
    "    value = value*(1+0.045/2) + 1000\n",
    "print('Value of annuity at 2.5 years:', value-1000)\n",
    "\n",
    "# At 4 years\n",
    "value = 1000\n",
    "for i in range(8):\n",
    "    value = value*(1+0.045/2) + 1000\n",
    "print('Value of annuity at maturity:', value-1000)"
   ]
  },
  {
   "cell_type": "markdown",
   "metadata": {},
   "source": [
    "## Question 6\n"
   ]
  },
  {
   "cell_type": "code",
   "execution_count": 33,
   "metadata": {},
   "outputs": [
    {
     "name": "stdout",
     "output_type": "stream",
     "text": [
      "Initial investment: 9143.905372681114\n"
     ]
    }
   ],
   "source": [
    "f = 10000\n",
    "t = 2\n",
    "r = 0.045\n",
    "freq = 4\n",
    "p = f/(1+r/freq)**(freq*t)\n",
    "print('Initial investment:', p)"
   ]
  },
  {
   "cell_type": "markdown",
   "metadata": {},
   "source": [
    "## Question 7\n"
   ]
  },
  {
   "cell_type": "code",
   "execution_count": 38,
   "metadata": {},
   "outputs": [
    {
     "name": "stdout",
     "output_type": "stream",
     "text": [
      "Initial investment: 13096.761102873552\n"
     ]
    }
   ],
   "source": [
    "t = 20\n",
    "r = 0.045\n",
    "freq = 2\n",
    "i = 500\n",
    "t = np.arange(start=1/freq, stop=t+1/freq, step=1/freq)\n",
    "I = np.repeat(i, 20*2)\n",
    "p = np.sum(I/(1+r/freq)**(freq*t))\n",
    "print('Initial investment:', p)"
   ]
  },
  {
   "cell_type": "markdown",
   "metadata": {},
   "source": [
    "## Question 8\n"
   ]
  },
  {
   "cell_type": "code",
   "execution_count": 39,
   "metadata": {},
   "outputs": [
    {
     "name": "stdout",
     "output_type": "stream",
     "text": [
      "Initial investment: 22222.222222222223\n"
     ]
    }
   ],
   "source": [
    "freq = 2\n",
    "i = 500\n",
    "r = 0.045\n",
    "p = i/(r/freq)\n",
    "print('Initial investment:', p)"
   ]
  },
  {
   "cell_type": "markdown",
   "metadata": {},
   "source": [
    "## Question 9\n"
   ]
  },
  {
   "cell_type": "code",
   "execution_count": 40,
   "metadata": {},
   "outputs": [
    {
     "name": "stdout",
     "output_type": "stream",
     "text": [
      "Initial investment: 44444.444444444445\n"
     ]
    }
   ],
   "source": [
    "freq = 4\n",
    "i = 500\n",
    "r = 0.045\n",
    "p = i/(r/freq)\n",
    "print('Initial investment:', p)"
   ]
  },
  {
   "cell_type": "markdown",
   "metadata": {},
   "source": [
    "## Question 10\n"
   ]
  },
  {
   "cell_type": "code",
   "execution_count": 43,
   "metadata": {},
   "outputs": [
    {
     "name": "stdout",
     "output_type": "stream",
     "text": [
      "Present value of the bond: 1132318.0540501163\n"
     ]
    }
   ],
   "source": [
    "r = np.array([0.04, 0.037, 0.035, 0.033, 0.03])\n",
    "c = 0.06\n",
    "f = 1000000\n",
    "t = np.arange(start=1, stop=5.5, step=1)\n",
    "p = np.sum(c*f*np.exp(-r*t)) + f*mt.exp(-r[-1]*t[-1])\n",
    "print('Present value of the bond:', p)"
   ]
  }
 ],
 "metadata": {
  "kernelspec": {
   "display_name": "venv",
   "language": "python",
   "name": "python3"
  },
  "language_info": {
   "codemirror_mode": {
    "name": "ipython",
    "version": 3
   },
   "file_extension": ".py",
   "mimetype": "text/x-python",
   "name": "python",
   "nbconvert_exporter": "python",
   "pygments_lexer": "ipython3",
   "version": "3.12.3"
  }
 },
 "nbformat": 4,
 "nbformat_minor": 2
}
