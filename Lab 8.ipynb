{
 "cells": [
  {
   "cell_type": "code",
   "execution_count": null,
   "metadata": {},
   "outputs": [],
   "source": [
    "import math\n",
    "from scipy.integrate import quad"
   ]
  },
  {
   "cell_type": "code",
   "execution_count": null,
   "metadata": {},
   "outputs": [],
   "source": [
    "def d_instant(t):\n",
    "    return 0.025+0.035*math.exp(-0.2*t)\n",
    "def f_instant(t):\n",
    "    return 0.06-0.035*math.exp(-0.2*t)\n",
    "def d_df_calculator(t:float):\n",
    "    return math.exp(-quad(d_instant,0,t)[0])\n",
    "def f_df_calculator(t:float):\n",
    "    return math.exp(-quad(f_instant,0,t)[0])"
   ]
  }
 ],
 "metadata": {
  "kernelspec": {
   "display_name": "venv",
   "language": "python",
   "name": "python3"
  },
  "language_info": {
   "name": "python",
   "version": "3.12.3"
  }
 },
 "nbformat": 4,
 "nbformat_minor": 2
}
