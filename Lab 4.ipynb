{
 "cells": [
  {
   "cell_type": "markdown",
   "metadata": {},
   "source": [
    "### Import"
   ]
  },
  {
   "cell_type": "code",
   "execution_count": 1,
   "metadata": {},
   "outputs": [],
   "source": [
    "import numpy as np\n",
    "import math\n",
    "from scipy.optimize import root_scalar\n",
    "import datetime\n",
    "import pandas as pd"
   ]
  },
  {
   "cell_type": "markdown",
   "metadata": {},
   "source": [
    "### Question 1"
   ]
  },
  {
   "cell_type": "code",
   "execution_count": 2,
   "metadata": {},
   "outputs": [],
   "source": [
    "face_value = 100000\n",
    "coupon_rate = 0.06\n",
    "coupon = face_value * coupon_rate * 0.5\n",
    "maturity = np.array([0.5, 1, 1.5, 2])\n",
    "rate = np.array([0.05, 0.0525, 0.055, 0.0575])"
   ]
  },
  {
   "cell_type": "code",
   "execution_count": 3,
   "metadata": {},
   "outputs": [
    {
     "name": "stdout",
     "output_type": "stream",
     "text": [
      "100500.59461855043\n"
     ]
    }
   ],
   "source": [
    "sum = 0\n",
    "for i in range(maturity.shape[0]):\n",
    "    sum += coupon/(1+rate[i]/2)**(i+1)\n",
    "PV = face_value/(1+rate[-1]/2)**(maturity.shape[0]) + sum\n",
    "print(PV)"
   ]
  },
  {
   "cell_type": "code",
   "execution_count": 4,
   "metadata": {},
   "outputs": [
    {
     "name": "stdout",
     "output_type": "stream",
     "text": [
      "100481.89483657673\n",
      "100407.1404594306\n",
      "100313.79808011316\n",
      "99571.06378479536\n",
      "98652.56670073181\n"
     ]
    }
   ],
   "source": [
    "new_rate = np.array([0.0001, 0.0005, 0.001, 0.005, 0.01])\n",
    "for j in new_rate:\n",
    "    sum = 0\n",
    "    for i in range(maturity.shape[0]):\n",
    "        sum += coupon/(1+(rate[i]+j)/2)**(i+1)\n",
    "    PV = face_value/(1+(rate[-1]+j)/2)**(maturity.shape[0]) + sum\n",
    "    print(PV)"
   ]
  },
  {
   "cell_type": "code",
   "execution_count": 5,
   "metadata": {},
   "outputs": [
    {
     "data": {
      "text/plain": [
       "1.9142145174914569"
      ]
     },
     "execution_count": 5,
     "metadata": {},
     "output_type": "execute_result"
    }
   ],
   "source": [
    "continous_rate = np.log(np.power((1+rate/2),(maturity*2)))/maturity\n",
    "dFW = (np.sum(np.exp(-continous_rate*maturity)*maturity)*coupon_rate / 2 + maturity[-1]*math.exp(-continous_rate[-1]*maturity[-1])) / (np.sum(np.exp(-continous_rate*maturity))*coupon_rate/2 + math.exp(-continous_rate[-1]*maturity[-1]))\n",
    "dFW"
   ]
  },
  {
   "cell_type": "code",
   "execution_count": 6,
   "metadata": {},
   "outputs": [
    {
     "data": {
      "text/plain": [
       "array([98633.6824832 , 98558.14561305, 98463.72452537, 97708.3558239 ,\n",
       "       96764.14494707])"
      ]
     },
     "execution_count": 6,
     "metadata": {},
     "output_type": "execute_result"
    }
   ],
   "source": [
    "new_PV = PV*(1-dFW*new_rate)\n",
    "new_PV"
   ]
  },
  {
   "cell_type": "code",
   "execution_count": 7,
   "metadata": {},
   "outputs": [
    {
     "name": "stdout",
     "output_type": "stream",
     "text": [
      "100481.89483657674\n",
      "100407.1404594306\n",
      "100313.79808011318\n",
      "99571.06378479536\n",
      "98652.5667007318\n"
     ]
    }
   ],
   "source": [
    "for i in new_rate:\n",
    "    new_continous_rate = np.log(np.power((1+(rate+i)/2),(maturity*2)))/maturity\n",
    "    print(((coupon_rate/2)*np.sum(np.exp(-new_continous_rate*maturity))+math.exp(-new_continous_rate[-1]*maturity[-1]))*face_value)"
   ]
  },
  {
   "cell_type": "markdown",
   "metadata": {},
   "source": [
    "### Question 2"
   ]
  },
  {
   "cell_type": "code",
   "execution_count": 8,
   "metadata": {},
   "outputs": [
    {
     "name": "stdout",
     "output_type": "stream",
     "text": [
      "1.915883565415642\n"
     ]
    }
   ],
   "source": [
    "maturity = np.array([0.5, 1, 1.5, 2])\n",
    "face_value = 100000\n",
    "y = 0.042493\n",
    "coupon_rate = 0.06\n",
    "B = 1/np.power((1+y/2),(2*maturity))\n",
    "dMac = (np.sum(B*maturity)*coupon_rate / 2 + maturity[-1]*B[-1]) / (np.sum(B)*coupon_rate/2 + B[-1])\n",
    "print(dMac)"
   ]
  },
  {
   "cell_type": "markdown",
   "metadata": {},
   "source": [
    "### Question 3"
   ]
  },
  {
   "cell_type": "markdown",
   "metadata": {},
   "source": [
    "### Question 4"
   ]
  },
  {
   "cell_type": "code",
   "execution_count": 9,
   "metadata": {},
   "outputs": [
    {
     "name": "stdout",
     "output_type": "stream",
     "text": [
      "1.8760246085696668\n"
     ]
    }
   ],
   "source": [
    "maturity = np.array([0.5, 1, 1.5, 2])\n",
    "face_value = 100000\n",
    "y = 0.042493\n",
    "coupon_rate = 0.06\n",
    "B = 1/np.power((1+y/2),(2*maturity))\n",
    "dMod = ((np.sum(B*maturity)*coupon_rate / 2 + maturity[-1]*B[-1]) / (np.sum(B)*coupon_rate/2 + B[-1]))/(1+y/2)\n",
    "print(dMod)"
   ]
  },
  {
   "cell_type": "markdown",
   "metadata": {},
   "source": [
    "### Question 5"
   ]
  },
  {
   "cell_type": "code",
   "execution_count": 10,
   "metadata": {},
   "outputs": [
    {
     "name": "stdout",
     "output_type": "stream",
     "text": [
      "[1.0, 1.9679881286685916, 2.864170341178019, 3.905082342999106, 4.545249111110888, 5.433829528837451, 6.551550618656618]\n",
      "[1.0, 1.9680246959421008, 2.8644173740378265, 3.9053358853453175, 4.546639805904893, 5.435948741640971, 6.553659413091555]\n"
     ]
    }
   ],
   "source": [
    "coupon = np.array([6.5, 3.25, 4.8, 1.5, 5, 4, 2])\n",
    "market_price = np.array([101.8137, 97.7066, 101.2414, 89.9751, 103.4012, 99.0074, 87.2087])\n",
    "df0 = np.array([])\n",
    "for i in range(coupon.shape[0]):\n",
    "    sum = np.sum(coupon[i]*df0)\n",
    "    factor = (market_price[i]-sum)/(100+coupon[i])\n",
    "    df0 = np.append(df0, factor)\n",
    "\n",
    "continous = np.log(1+df0)\n",
    "dFW_list = []\n",
    "dMc_list = []\n",
    "for i in range(coupon.shape[0]):\n",
    "    maturity = np.arange(start=1, stop=i+2)\n",
    "    continous_rate = continous_rate[:i+1]\n",
    "    coupon_rate = coupon[i]/100\n",
    "    dFW_list += [(np.sum(np.exp(-continous_rate*maturity)*maturity)*coupon_rate + maturity[-1]*math.exp(-continous_rate[-1]*maturity[-1])) / (np.sum(np.exp(-continous_rate*maturity))*coupon_rate + math.exp(-continous_rate[-1]*maturity[-1]))]\n",
    "    B = 1/np.power((1+continous_rate),(maturity))\n",
    "    dMc_list += [(np.sum(B*maturity)*coupon_rate + maturity[-1]*B[-1]) / (np.sum(B)*coupon_rate + B[-1])]\n",
    "\n",
    "print(dFW_list)\n",
    "print(dMc_list)"
   ]
  },
  {
   "cell_type": "markdown",
   "metadata": {},
   "source": [
    "### Question 6"
   ]
  },
  {
   "cell_type": "code",
   "execution_count": 11,
   "metadata": {},
   "outputs": [],
   "source": [
    "def coupon_payment_list(maturity: datetime.date, date: datetime.date, frequency: int):\n",
    "    coupon_list = []\n",
    "    checkdate = datetime.date(maturity.year, maturity.month, maturity.day)\n",
    "    month = int(12/frequency)\n",
    "    while (checkdate>date):\n",
    "        coupon_list = [checkdate] + coupon_list\n",
    "        checkdate = datetime.date( checkdate.year if checkdate.month > month else checkdate.year - 1, checkdate.month - month if checkdate.month > month else 12 + checkdate.month - month, checkdate.day)\n",
    "    return coupon_list"
   ]
  },
  {
   "cell_type": "code",
   "execution_count": 12,
   "metadata": {},
   "outputs": [
    {
     "data": {
      "text/plain": [
       "2.323263138334031"
      ]
     },
     "execution_count": 12,
     "metadata": {},
     "output_type": "execute_result"
    }
   ],
   "source": [
    "y = 0.045\n",
    "continous_rate = 2*math.log(1+y/2)\n",
    "continous_rate\n",
    "coupon_dates = coupon_payment_list(datetime.date(2019,9,15), datetime.date(2017,3,6), 2)\n",
    "maturity = []\n",
    "for i in coupon_dates:\n",
    "    maturity += [(i-datetime.date(2017,3,6)).days/365]\n",
    "maturity = np.array(maturity)\n",
    "continous_rate = np.repeat(continous_rate, len(maturity))\n",
    "coupon_rate = 0.03\n",
    "dFW = (np.sum(np.exp(-continous_rate*maturity)*maturity)*coupon_rate + maturity[-1]*math.exp(-continous_rate[-1]*maturity[-1])) / (np.sum(np.exp(-continous_rate*maturity))*coupon_rate + math.exp(-continous_rate[-1]*maturity[-1]))\n",
    "dFW"
   ]
  },
  {
   "cell_type": "markdown",
   "metadata": {},
   "source": [
    "### Question 7"
   ]
  },
  {
   "cell_type": "code",
   "execution_count": 13,
   "metadata": {},
   "outputs": [
    {
     "data": {
      "text/html": [
       "<div>\n",
       "<style scoped>\n",
       "    .dataframe tbody tr th:only-of-type {\n",
       "        vertical-align: middle;\n",
       "    }\n",
       "\n",
       "    .dataframe tbody tr th {\n",
       "        vertical-align: top;\n",
       "    }\n",
       "\n",
       "    .dataframe thead th {\n",
       "        text-align: right;\n",
       "    }\n",
       "</style>\n",
       "<table border=\"1\" class=\"dataframe\">\n",
       "  <thead>\n",
       "    <tr style=\"text-align: right;\">\n",
       "      <th></th>\n",
       "      <th>price</th>\n",
       "      <th>coupon</th>\n",
       "      <th>maturity</th>\n",
       "      <th>yield</th>\n",
       "      <th>Zero Bond</th>\n",
       "    </tr>\n",
       "  </thead>\n",
       "  <tbody>\n",
       "    <tr>\n",
       "      <th>0</th>\n",
       "      <td>99.78</td>\n",
       "      <td>0.0275</td>\n",
       "      <td>2024-04-21</td>\n",
       "      <td>0.117110</td>\n",
       "      <td>98.426634</td>\n",
       "    </tr>\n",
       "    <tr>\n",
       "      <th>1</th>\n",
       "      <td>97.31</td>\n",
       "      <td>0.0025</td>\n",
       "      <td>2024-11-21</td>\n",
       "      <td>0.041660</td>\n",
       "      <td>97.065874</td>\n",
       "    </tr>\n",
       "    <tr>\n",
       "      <th>2</th>\n",
       "      <td>99.19</td>\n",
       "      <td>0.0325</td>\n",
       "      <td>2025-04-21</td>\n",
       "      <td>0.050585</td>\n",
       "      <td>94.474846</td>\n",
       "    </tr>\n",
       "    <tr>\n",
       "      <th>3</th>\n",
       "      <td>94.18</td>\n",
       "      <td>0.0025</td>\n",
       "      <td>2025-11-21</td>\n",
       "      <td>0.038149</td>\n",
       "      <td>93.700791</td>\n",
       "    </tr>\n",
       "    <tr>\n",
       "      <th>4</th>\n",
       "      <td>101.02</td>\n",
       "      <td>0.0425</td>\n",
       "      <td>2026-04-21</td>\n",
       "      <td>0.045017</td>\n",
       "      <td>90.928288</td>\n",
       "    </tr>\n",
       "    <tr>\n",
       "      <th>5</th>\n",
       "      <td>92.32</td>\n",
       "      <td>0.0050</td>\n",
       "      <td>2026-09-21</td>\n",
       "      <td>0.037735</td>\n",
       "      <td>90.899640</td>\n",
       "    </tr>\n",
       "    <tr>\n",
       "      <th>6</th>\n",
       "      <td>103.02</td>\n",
       "      <td>0.0475</td>\n",
       "      <td>2027-04-21</td>\n",
       "      <td>0.042988</td>\n",
       "      <td>87.515235</td>\n",
       "    </tr>\n",
       "    <tr>\n",
       "      <th>7</th>\n",
       "      <td>96.59</td>\n",
       "      <td>0.0275</td>\n",
       "      <td>2027-11-21</td>\n",
       "      <td>0.039659</td>\n",
       "      <td>86.442375</td>\n",
       "    </tr>\n",
       "    <tr>\n",
       "      <th>8</th>\n",
       "      <td>94.21</td>\n",
       "      <td>0.0225</td>\n",
       "      <td>2028-05-21</td>\n",
       "      <td>0.039121</td>\n",
       "      <td>84.951692</td>\n",
       "    </tr>\n",
       "    <tr>\n",
       "      <th>9</th>\n",
       "      <td>95.68</td>\n",
       "      <td>0.0275</td>\n",
       "      <td>2028-11-21</td>\n",
       "      <td>0.039393</td>\n",
       "      <td>83.220015</td>\n",
       "    </tr>\n",
       "    <tr>\n",
       "      <th>10</th>\n",
       "      <td>97.48</td>\n",
       "      <td>0.0325</td>\n",
       "      <td>2029-04-21</td>\n",
       "      <td>0.040523</td>\n",
       "      <td>81.400070</td>\n",
       "    </tr>\n",
       "    <tr>\n",
       "      <th>11</th>\n",
       "      <td>94.40</td>\n",
       "      <td>0.0275</td>\n",
       "      <td>2029-11-21</td>\n",
       "      <td>0.040046</td>\n",
       "      <td>79.727759</td>\n",
       "    </tr>\n",
       "    <tr>\n",
       "      <th>12</th>\n",
       "      <td>92.30</td>\n",
       "      <td>0.0250</td>\n",
       "      <td>2030-05-21</td>\n",
       "      <td>0.040384</td>\n",
       "      <td>77.986765</td>\n",
       "    </tr>\n",
       "    <tr>\n",
       "      <th>13</th>\n",
       "      <td>82.50</td>\n",
       "      <td>0.0100</td>\n",
       "      <td>2030-12-21</td>\n",
       "      <td>0.039947</td>\n",
       "      <td>76.411166</td>\n",
       "    </tr>\n",
       "    <tr>\n",
       "      <th>14</th>\n",
       "      <td>84.27</td>\n",
       "      <td>0.0150</td>\n",
       "      <td>2031-06-21</td>\n",
       "      <td>0.040554</td>\n",
       "      <td>74.577418</td>\n",
       "    </tr>\n",
       "    <tr>\n",
       "      <th>15</th>\n",
       "      <td>80.01</td>\n",
       "      <td>0.0100</td>\n",
       "      <td>2031-11-21</td>\n",
       "      <td>0.040867</td>\n",
       "      <td>73.161316</td>\n",
       "    </tr>\n",
       "    <tr>\n",
       "      <th>16</th>\n",
       "      <td>80.41</td>\n",
       "      <td>0.0125</td>\n",
       "      <td>2032-05-21</td>\n",
       "      <td>0.041346</td>\n",
       "      <td>71.402877</td>\n",
       "    </tr>\n",
       "    <tr>\n",
       "      <th>17</th>\n",
       "      <td>82.78</td>\n",
       "      <td>0.0175</td>\n",
       "      <td>2032-11-21</td>\n",
       "      <td>0.041945</td>\n",
       "      <td>69.561365</td>\n",
       "    </tr>\n",
       "    <tr>\n",
       "      <th>18</th>\n",
       "      <td>102.82</td>\n",
       "      <td>0.0450</td>\n",
       "      <td>2033-04-21</td>\n",
       "      <td>0.043393</td>\n",
       "      <td>67.223946</td>\n",
       "    </tr>\n",
       "    <tr>\n",
       "      <th>19</th>\n",
       "      <td>91.12</td>\n",
       "      <td>0.0300</td>\n",
       "      <td>2033-11-21</td>\n",
       "      <td>0.042282</td>\n",
       "      <td>66.455909</td>\n",
       "    </tr>\n",
       "    <tr>\n",
       "      <th>20</th>\n",
       "      <td>96.87</td>\n",
       "      <td>0.0375</td>\n",
       "      <td>2034-05-21</td>\n",
       "      <td>0.042568</td>\n",
       "      <td>64.824428</td>\n",
       "    </tr>\n",
       "    <tr>\n",
       "      <th>21</th>\n",
       "      <td>94.32</td>\n",
       "      <td>0.0350</td>\n",
       "      <td>2034-12-21</td>\n",
       "      <td>0.042391</td>\n",
       "      <td>63.404487</td>\n",
       "    </tr>\n",
       "    <tr>\n",
       "      <th>22</th>\n",
       "      <td>87.31</td>\n",
       "      <td>0.0275</td>\n",
       "      <td>2035-06-21</td>\n",
       "      <td>0.042335</td>\n",
       "      <td>62.164478</td>\n",
       "    </tr>\n",
       "    <tr>\n",
       "      <th>23</th>\n",
       "      <td>94.17</td>\n",
       "      <td>0.0375</td>\n",
       "      <td>2037-04-21</td>\n",
       "      <td>0.044787</td>\n",
       "      <td>55.314308</td>\n",
       "    </tr>\n",
       "    <tr>\n",
       "      <th>24</th>\n",
       "      <td>87.88</td>\n",
       "      <td>0.0325</td>\n",
       "      <td>2039-06-21</td>\n",
       "      <td>0.044035</td>\n",
       "      <td>51.014298</td>\n",
       "    </tr>\n",
       "    <tr>\n",
       "      <th>25</th>\n",
       "      <td>80.13</td>\n",
       "      <td>0.0275</td>\n",
       "      <td>2041-05-21</td>\n",
       "      <td>0.044817</td>\n",
       "      <td>46.183264</td>\n",
       "    </tr>\n",
       "    <tr>\n",
       "      <th>26</th>\n",
       "      <td>78.82</td>\n",
       "      <td>0.0300</td>\n",
       "      <td>2047-03-21</td>\n",
       "      <td>0.045934</td>\n",
       "      <td>34.379672</td>\n",
       "    </tr>\n",
       "    <tr>\n",
       "      <th>27</th>\n",
       "      <td>56.92</td>\n",
       "      <td>0.0175</td>\n",
       "      <td>2051-06-21</td>\n",
       "      <td>0.045401</td>\n",
       "      <td>29.099022</td>\n",
       "    </tr>\n",
       "    <tr>\n",
       "      <th>28</th>\n",
       "      <td>104.43</td>\n",
       "      <td>0.0475</td>\n",
       "      <td>2054-06-21</td>\n",
       "      <td>0.045355</td>\n",
       "      <td>25.108104</td>\n",
       "    </tr>\n",
       "  </tbody>\n",
       "</table>\n",
       "</div>"
      ],
      "text/plain": [
       "     price  coupon   maturity     yield  Zero Bond\n",
       "0    99.78  0.0275 2024-04-21  0.117110  98.426634\n",
       "1    97.31  0.0025 2024-11-21  0.041660  97.065874\n",
       "2    99.19  0.0325 2025-04-21  0.050585  94.474846\n",
       "3    94.18  0.0025 2025-11-21  0.038149  93.700791\n",
       "4   101.02  0.0425 2026-04-21  0.045017  90.928288\n",
       "5    92.32  0.0050 2026-09-21  0.037735  90.899640\n",
       "6   103.02  0.0475 2027-04-21  0.042988  87.515235\n",
       "7    96.59  0.0275 2027-11-21  0.039659  86.442375\n",
       "8    94.21  0.0225 2028-05-21  0.039121  84.951692\n",
       "9    95.68  0.0275 2028-11-21  0.039393  83.220015\n",
       "10   97.48  0.0325 2029-04-21  0.040523  81.400070\n",
       "11   94.40  0.0275 2029-11-21  0.040046  79.727759\n",
       "12   92.30  0.0250 2030-05-21  0.040384  77.986765\n",
       "13   82.50  0.0100 2030-12-21  0.039947  76.411166\n",
       "14   84.27  0.0150 2031-06-21  0.040554  74.577418\n",
       "15   80.01  0.0100 2031-11-21  0.040867  73.161316\n",
       "16   80.41  0.0125 2032-05-21  0.041346  71.402877\n",
       "17   82.78  0.0175 2032-11-21  0.041945  69.561365\n",
       "18  102.82  0.0450 2033-04-21  0.043393  67.223946\n",
       "19   91.12  0.0300 2033-11-21  0.042282  66.455909\n",
       "20   96.87  0.0375 2034-05-21  0.042568  64.824428\n",
       "21   94.32  0.0350 2034-12-21  0.042391  63.404487\n",
       "22   87.31  0.0275 2035-06-21  0.042335  62.164478\n",
       "23   94.17  0.0375 2037-04-21  0.044787  55.314308\n",
       "24   87.88  0.0325 2039-06-21  0.044035  51.014298\n",
       "25   80.13  0.0275 2041-05-21  0.044817  46.183264\n",
       "26   78.82  0.0300 2047-03-21  0.045934  34.379672\n",
       "27   56.92  0.0175 2051-06-21  0.045401  29.099022\n",
       "28  104.43  0.0475 2054-06-21  0.045355  25.108104"
      ]
     },
     "execution_count": 13,
     "metadata": {},
     "output_type": "execute_result"
    }
   ],
   "source": [
    "df = pd.read_excel('Tutorial3_Answer.xlsx')\n",
    "df['maturity'] = pd.to_datetime(df['maturity'])\n",
    "df"
   ]
  },
  {
   "cell_type": "code",
   "execution_count": 19,
   "metadata": {},
   "outputs": [
    {
     "data": {
      "text/plain": [
       "[7.131506849315069,\n",
       " 7.716923593684096,\n",
       " 8.094502285256695,\n",
       " 8.7099310608627,\n",
       " 8.92042122022272,\n",
       " 9.493975925309078,\n",
       " 9.53110555372004,\n",
       " 10.103755984908972,\n",
       " 10.459983857250874,\n",
       " 10.544814382146022,\n",
       " 10.473720193277716,\n",
       " 10.822062450239128,\n",
       " 11.020365254255026,\n",
       " 12.248149865711946,\n",
       " 11.915440690397528,\n",
       " 12.468751676488568,\n",
       " 12.261394929486414,\n",
       " 11.811926056404593,\n",
       " 10.456637672394125,\n",
       " 10.987706153018088,\n",
       " 10.709038001598385,\n",
       " 10.901287156808388,\n",
       " 11.234289517762603,\n",
       " 11.00043059908715,\n",
       " 11.552734556762172,\n",
       " 12.273061249631455,\n",
       " 14.810338005508875,\n",
       " 20.96423503360655,\n",
       " 19.827624272937882]"
      ]
     },
     "execution_count": 19,
     "metadata": {},
     "output_type": "execute_result"
    }
   ],
   "source": [
    "def interpolate_dates(date: datetime.date, date_array: list):\n",
    "    greater_dates = date_array[date_array>date]\n",
    "    next_bond = min(greater_dates, key=lambda x: abs(x - date)) if len(greater_dates)>0 else None\n",
    "    lower_date = date_array[date_array<date]\n",
    "    last_bond = min(lower_date, key=lambda x: abs(x - date)) if len(lower_date)>0 else None\n",
    "    return [date, last_bond, next_bond]\n",
    "\n",
    "def interpolation(today: datetime.date, last_date: datetime.date, last_df: float, next_date: datetime.date, next_df: float):\n",
    "    return math.exp(math.log(last_df) + ((today-last_date).days/(next_date-last_date).days)*(math.log(next_df)-math.log(last_df)))\n",
    "\n",
    "def factor_calculation(interpolate: list, bond_price: pd.DataFrame, today:datetime.date ):\n",
    "    factors = []\n",
    "    for i in interpolate:\n",
    "        if len(i) == 1:\n",
    "            factors += [bond_price[bond_price['maturity']==i[0].strftime('%Y-%m-%d')]['Zero Bond'].iloc[0]/100]\n",
    "        else:\n",
    "            if i[1]==None:\n",
    "                factors += [interpolation(i[0], today, 1, i[2], bond_price[bond_price['maturity']==i[2].strftime('%Y-%m-%d')]['Zero Bond'].iloc[0]/100)]\n",
    "            else:\n",
    "                factors += [interpolation(i[0], i[1], bond_price[bond_price['maturity']==i[1].strftime('%Y-%m-%d')]['Zero Bond'].iloc[0]/100, i[2], bond_price[bond_price['maturity']==i[2].strftime('%Y-%m-%d')]['Zero Bond'].iloc[0]/100)]\n",
    "    return factors\n",
    "dFW_list = []\n",
    "today = datetime.date(2024,3,1)\n",
    "for i in range(len(df)):\n",
    "    coupon_dates = coupon_payment_list(df['maturity'][i], today, 2)\n",
    "    interpolate = []\n",
    "    bond_maturities = df['maturity'].dt.date.array\n",
    "    for j in coupon_dates:\n",
    "        if j in bond_maturities or len(df[df['maturity']==j.strftime('%Y-%m-%d')])!=0:\n",
    "            interpolate += [[j]]\n",
    "        else:\n",
    "            interpolate += [interpolate_dates(j, bond_maturities)]\n",
    "    factors = np.array(factor_calculation(interpolate, df, today))\n",
    "    continous_rate = 2*np.log(1+factors/2)\n",
    "    maturity = []\n",
    "    for j in coupon_dates:\n",
    "        maturity += [(j-datetime.date(2017,3,6)).days/365]\n",
    "    maturity = np.array(maturity)\n",
    "    coupon_rate = df['coupon'][i]/2\n",
    "    dFW_list += [(np.sum(np.exp(-continous_rate*maturity)*maturity)*coupon_rate + maturity[-1]*math.exp(-continous_rate[-1]*maturity[-1])) / (np.sum(np.exp(-continous_rate*maturity))*coupon_rate + math.exp(-continous_rate[-1]*maturity[-1]))]\n",
    "dFW_list"
   ]
  }
 ],
 "metadata": {
  "kernelspec": {
   "display_name": "venv",
   "language": "python",
   "name": "python3"
  },
  "language_info": {
   "codemirror_mode": {
    "name": "ipython",
    "version": 3
   },
   "file_extension": ".py",
   "mimetype": "text/x-python",
   "name": "python",
   "nbconvert_exporter": "python",
   "pygments_lexer": "ipython3",
   "version": "3.12.2"
  }
 },
 "nbformat": 4,
 "nbformat_minor": 2
}
