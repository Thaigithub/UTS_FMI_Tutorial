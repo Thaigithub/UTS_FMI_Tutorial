{
 "cells": [
  {
   "cell_type": "markdown",
   "id": "9accff29",
   "metadata": {},
   "source": [
    "# WEEK 2 TUTORIAL"
   ]
  },
  {
   "cell_type": "markdown",
   "id": "5ef4a15e",
   "metadata": {},
   "source": [
    "### Import"
   ]
  },
  {
   "cell_type": "code",
   "execution_count": null,
   "id": "0605adc3",
   "metadata": {},
   "outputs": [],
   "source": [
    "import numpy as np\n",
    "from scipy import optimize\n",
    "import datetime\n",
    "import math"
   ]
  },
  {
   "cell_type": "markdown",
   "id": "3fb46809",
   "metadata": {},
   "source": [
    "### Question 1"
   ]
  },
  {
   "cell_type": "markdown",
   "id": "00cd001e",
   "metadata": {},
   "source": [
    "$$\n",
    "105 = \\sum_{k=1}^{6} 5 \\cdot e^{-kx} + 100e^{-6x}\n",
    "$$"
   ]
  },
  {
   "cell_type": "code",
   "execution_count": null,
   "id": "b6fb4e47",
   "metadata": {},
   "outputs": [],
   "source": [
    "\n",
    "def equation(x):\n",
    "    sum_series = sum(5 * np.exp(-k * x) for k in range(1, 7))\n",
    "    value = sum_series + 100 * np.exp(-6 * x)\n",
    "    return value - 105\n",
    "\n",
    "x_initial_guess = 0.1\n",
    "x_solution = optimize.root_scalar(equation, x0=x_initial_guess)\n",
    "annual_yield = x_solution.root\n",
    "\n",
    "qrate = annual_yield / 4\n",
    "\n",
    "def bond_price(qrate):\n",
    "    sum_series = sum((5/4) * np.exp(-k * qrate) for k in range(1, 25))\n",
    "    price = sum_series + 100 * np.exp(-24 * qrate)\n",
    "    return price\n",
    "\n",
    "bond_price_quarterly = bond_price(qrate)\n",
    "\n",
    "bond_price_quarterly"
   ]
  },
  {
   "cell_type": "markdown",
   "id": "d29efa66",
   "metadata": {},
   "source": [
    "### Question 2"
   ]
  },
  {
   "cell_type": "code",
   "execution_count": null,
   "id": "611184c1",
   "metadata": {},
   "outputs": [],
   "source": [
    "market_price = np.array([101.8137, 97.7066, 101.2414, 89.9751, 103.4012, 99.0074, 87.2097])\n",
    "coupon = np.array([6.5, 3.25, 4.8, 1.5, 5, 4, 2])"
   ]
  },
  {
   "cell_type": "code",
   "execution_count": null,
   "id": "9af07844",
   "metadata": {},
   "outputs": [],
   "source": [
    "df0 = np.array([])\n",
    "for i in range(coupon.shape[0]):\n",
    "    sum = 0\n",
    "    for j in range(0,df0.shape[0]):\n",
    "        sum += coupon[i]*df0[j]\n",
    "    factor = (market_price[i]-sum)/(100+coupon[i])\n",
    "    df0 = np.append(df0, factor)\n",
    "\n",
    "print(df0)\n",
    "print(100*df0[-1]+8*np.sum(df0))"
   ]
  },
  {
   "cell_type": "markdown",
   "id": "d15981dd",
   "metadata": {},
   "source": [
    "### Question 4"
   ]
  },
  {
   "cell_type": "code",
   "execution_count": null,
   "id": "924cc648",
   "metadata": {},
   "outputs": [],
   "source": [
    "df_lower = np.empty\n",
    "df_lower = np.append([1], df0[:-1])\n",
    "df_one_half = np.exp(np.log(df_lower+1/2 * (df0 - df_lower)))\n",
    "df1 = np.repeat(np.copy(df0),2)\n",
    "for i in range(df_one_half.shape[0]):\n",
    "    df1[2*i] = df_one_half[i]\n",
    "print(df1)\n",
    "print(100*df1[-1]+np.sum(df1)*3)"
   ]
  },
  {
   "cell_type": "markdown",
   "id": "c5ae0b78",
   "metadata": {},
   "source": [
    "### Question 5"
   ]
  },
  {
   "cell_type": "code",
   "execution_count": null,
   "id": "bf79e874",
   "metadata": {},
   "outputs": [],
   "source": [
    "df_lower = np.empty\n",
    "df_lower = np.append([1], df1[:-1])\n",
    "df_one_fourth = np.exp(np.log(df_lower+1/2 * (df1 - df_lower)))\n",
    "df2 = np.repeat(np.copy(df1),2)\n",
    "for i in range(df_one_fourth.shape[0]):\n",
    "    df2[2*i] = df_one_fourth[i]\n",
    "print(df2)\n",
    "print(100*df2[-1]+np.sum(df2)*0.5)"
   ]
  },
  {
   "cell_type": "markdown",
   "id": "dc4ddab4",
   "metadata": {},
   "source": [
    "### Question 6"
   ]
  },
  {
   "cell_type": "code",
   "execution_count": null,
   "id": "f88531c7",
   "metadata": {},
   "outputs": [],
   "source": [
    "date = datetime.date(2024, 2, 26)\n",
    "mature = datetime.date(2024, 4, 22)\n",
    "last_coupon = datetime.date(2023, 4, 22)\n",
    "quater = datetime.date(2024, 5, 26)\n",
    "df = math.exp((mature-date).days*(math.log(df2[0]))/(quater-date).days)\n",
    "print(104.5*df)\n",
    "print(4.5*(date-last_coupon).days/(mature-last_coupon).days)"
   ]
  },
  {
   "cell_type": "markdown",
   "id": "dadb08cf",
   "metadata": {},
   "source": [
    "### Question 7"
   ]
  },
  {
   "cell_type": "code",
   "execution_count": null,
   "id": "627e1b77",
   "metadata": {},
   "outputs": [],
   "source": [
    "df_lower = np.empty\n",
    "df_lower = np.append([1], df2[:-1])\n",
    "df_odd = np.exp(np.log(df_lower + 1/3 * (df2 - df_lower)))\n",
    "\n",
    "df_lower = np.empty\n",
    "df_lower = np.append([1], df2[:-1])\n",
    "df_even = np.exp(np.log(df_lower + 2/3 * (df2 - df_lower)))\n",
    "\n",
    "\n",
    "df3 = np.repeat(np.copy(df2),3)\n",
    "for i in range(df_odd.shape[0]):\n",
    "    df3[3*i] = df_odd[i]\n",
    "    df3[3*i+1] = df_even[i]\n",
    "\n",
    "print(1000000/np.sum(df3))"
   ]
  },
  {
   "cell_type": "markdown",
   "id": "3d2745d8",
   "metadata": {},
   "source": [
    "### Question 8"
   ]
  },
  {
   "cell_type": "markdown",
   "id": "722c962e",
   "metadata": {},
   "source": [
    "$$\n",
    "B(t,T_i) = e^{rT_i}\n",
    "$$\n",
    "\n",
    "Increase 50 basis point mean $$r + 0.005$$\n",
    "\n",
    "$$\n",
    "B'(t,T_i) = e^{(r+0.005)T_i}\n",
    "=e^{rT_i} \\cdot e^{0.005T_i}\n",
    "=B(t,T_i) \\cdot e^{0.005T_i}\n",
    "$$"
   ]
  },
  {
   "cell_type": "code",
   "execution_count": null,
   "id": "c17db88b",
   "metadata": {},
   "outputs": [],
   "source": [
    "print(1000000/np.sum(df3*np.exp(np.arange(1, df3.shape[0]+1)*0.0005)))"
   ]
  },
  {
   "cell_type": "markdown",
   "id": "68a83142",
   "metadata": {},
   "source": [
    "### Question 9"
   ]
  },
  {
   "cell_type": "code",
   "execution_count": null,
   "id": "0b2fdb88",
   "metadata": {},
   "outputs": [],
   "source": [
    "payment_pm1 = 10000*0.17/12\n",
    "payment1 = np.sum(np.full(24,payment_pm1) * df3[:24])\n",
    "\n",
    "payment_pm2 = 10000*0.22/12\n",
    "payment2 = np.sum(np.concatenate((np.full(6,0), np.full(18,payment_pm2))) * df3[:24])\n",
    "\n",
    "print(payment1, payment2)\n",
    "print('Switch due to lower payment')\n"
   ]
  },
  {
   "cell_type": "markdown",
   "id": "7088a517",
   "metadata": {},
   "source": [
    "### Question 10"
   ]
  },
  {
   "cell_type": "code",
   "execution_count": null,
   "id": "eb6711c5",
   "metadata": {},
   "outputs": [],
   "source": [
    "def rate_change(x):\n",
    "    payment_pm1 = 10000*0.17/12\n",
    "    payment1 = np.sum(np.full(24,payment_pm1) * df3[:24])\n",
    "\n",
    "    payment_pm2 = 10000*x/12\n",
    "    payment2 = np.sum(np.concatenate((np.full(6,0), np.full(18,payment_pm2))) * df3[:24])\n",
    "\n",
    "    return payment1-payment2\n",
    "\n",
    "rate = optimize.root_scalar(rate_change, bracket=[0,1])\n",
    "print(rate)"
   ]
  }
 ],
 "metadata": {
  "kernelspec": {
   "display_name": "Python 3",
   "language": "python",
   "name": "python3"
  },
  "language_info": {
   "codemirror_mode": {
    "name": "ipython",
    "version": 3
   },
   "file_extension": ".py",
   "mimetype": "text/x-python",
   "name": "python",
   "nbconvert_exporter": "python",
   "pygments_lexer": "ipython3",
   "version": "3.12.2"
  }
 },
 "nbformat": 4,
 "nbformat_minor": 5
}
