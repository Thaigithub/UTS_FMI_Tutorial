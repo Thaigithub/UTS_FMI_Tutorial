{
 "cells": [
  {
   "cell_type": "markdown",
   "id": "9accff29",
   "metadata": {},
   "source": [
    "# Whiteboard Tutorial 2\n"
   ]
  },
  {
   "cell_type": "markdown",
   "id": "5ef4a15e",
   "metadata": {},
   "source": [
    "## Import packages\n"
   ]
  },
  {
   "cell_type": "code",
   "execution_count": 1,
   "id": "0605adc3",
   "metadata": {},
   "outputs": [],
   "source": [
    "import numpy as np\n",
    "from scipy.optimize import root_scalar\n",
    "import datetime\n",
    "import math\n",
    "from functools import partial"
   ]
  },
  {
   "cell_type": "markdown",
   "id": "3fb46809",
   "metadata": {},
   "source": [
    "## Question 1\n"
   ]
  },
  {
   "cell_type": "markdown",
   "id": "00cd001e",
   "metadata": {},
   "source": [
    "$$\n",
    "105 = \\sum_{k=1}^{6} 5 \\cdot e^{-kx} + 100e^{-6x}\n",
    "$$\n"
   ]
  },
  {
   "cell_type": "code",
   "execution_count": 2,
   "id": "b6fb4e47",
   "metadata": {},
   "outputs": [
    {
     "name": "stdout",
     "output_type": "stream",
     "text": [
      "Bond yield: 0.039651379706951186\n",
      "Bond price: 195.18428809482504\n"
     ]
    },
    {
     "name": "stderr",
     "output_type": "stream",
     "text": [
      "C:\\Users\\1tran\\AppData\\Local\\Temp\\ipykernel_4124\\3934419728.py:4: DeprecationWarning: Conversion of an array with ndim > 0 to a scalar is deprecated, and will error in future. Ensure you extract a single element from your array before performing this operation. (Deprecated NumPy 1.25.)\n",
      "  p = np.sum(i * np.exp(-x * t)) + 100 * math.exp(-6 * x)\n"
     ]
    }
   ],
   "source": [
    "def equation(x):\n",
    "    i = np.repeat(5, 6)\n",
    "    t = np.arange(1, 7, 1)\n",
    "    p = np.sum(i * np.exp(-x * t)) + 100 * math.exp(-6 * x)\n",
    "    return p - 105\n",
    "y = root_scalar(equation, x0=0.1).root\n",
    "print(\"Bond yield:\", y)\n",
    "\n",
    "freq = 4\n",
    "qy = y / freq\n",
    "c = 5\n",
    "t = np.arange(1, 25, 1)\n",
    "p = c*np.sum(np.exp(-t*qy/freq)) + 100 * math.exp(-6 * freq * qy)\n",
    "print(\"Bond price:\", p)"
   ]
  },
  {
   "cell_type": "markdown",
   "id": "d29efa66",
   "metadata": {},
   "source": [
    "## Question 2\n"
   ]
  },
  {
   "cell_type": "code",
   "execution_count": 3,
   "id": "9af07844",
   "metadata": {},
   "outputs": [
    {
     "name": "stdout",
     "output_type": "stream",
     "text": [
      "Discount factor: [0.9559971830985915, 0.9162189748661459, 0.8802935347497067, 0.845776704048555, 0.8134263620589048, 0.7823129708145422, 0.7531534170659521]\n",
      "Bond price: 122.89277488021438\n"
     ]
    }
   ],
   "source": [
    "p = [101.8137, 97.7066, 101.2414, 89.9751, 103.4012, 99.0074, 87.2097]\n",
    "c = [6.5, 3.25, 4.8, 1.5, 5, 4, 2]\n",
    "df0 = []\n",
    "for i in range(len(c)):\n",
    "    factor = (p[i]-c[i]*np.sum(np.array(df0)))/(100+c[i])\n",
    "    df0 += [factor]\n",
    "bond_price = 100*df0[-1]+8*np.sum(df0)\n",
    "print('Discount factor:', df0)\n",
    "print('Bond price:', bond_price)"
   ]
  },
  {
   "cell_type": "markdown",
   "id": "697018f9",
   "metadata": {},
   "source": [
    "## Question 3\n"
   ]
  },
  {
   "cell_type": "code",
   "execution_count": 4,
   "id": "382ea531",
   "metadata": {},
   "outputs": [
    {
     "name": "stdout",
     "output_type": "stream",
     "text": [
      "Accrued interest: 0.8333333333333334\n"
     ]
    }
   ],
   "source": [
    "f = 100\n",
    "c = 0.05\n",
    "freq = 2\n",
    "coupon = f*c/freq\n",
    "interest = coupon * 1/3\n",
    "print('Accrued interest:', interest)"
   ]
  },
  {
   "cell_type": "markdown",
   "id": "d15981dd",
   "metadata": {},
   "source": [
    "## Question 4\n"
   ]
  },
  {
   "cell_type": "code",
   "execution_count": 5,
   "id": "924cc648",
   "metadata": {},
   "outputs": [
    {
     "name": "stdout",
     "output_type": "stream",
     "text": [
      "Bond price 111.36490991503287\n"
     ]
    }
   ],
   "source": [
    "def df_calculator(t):\n",
    "    if (int(t)==t):\n",
    "        return df0[int(t)-1]\n",
    "    else:\n",
    "        if (t<1):\n",
    "            return ((df0[math.ceil(t)-1])**(t-math.floor(t)))\n",
    "        else:\n",
    "            return df0[math.floor(t)-1]*((df0[math.ceil(t)-1]/df0[math.floor(t)-1])**(t-math.floor(t)))\n",
    "f = 100\n",
    "c = 0.06\n",
    "freq = 2\n",
    "T = 7\n",
    "coupon = c*f/freq\n",
    "t = list(np.arange(1/freq, T+1/freq, 1/freq))\n",
    "p = 100*df0[-1] + sum(list(map(df_calculator,t)))*coupon\n",
    "print('Bond price', p)"
   ]
  },
  {
   "cell_type": "markdown",
   "id": "c5ae0b78",
   "metadata": {},
   "source": [
    "## Question 5\n"
   ]
  },
  {
   "cell_type": "code",
   "execution_count": 6,
   "id": "bf79e874",
   "metadata": {},
   "outputs": [
    {
     "name": "stdout",
     "output_type": "stream",
     "text": [
      "Discount factor: [0.9549766077438229, 0.9375907548398893, 0.9427830735284667, 0.8744632090510633, 0.9384733424971641, 0.9045019110317088, 0.8247252387836003]\n",
      "Bond price: 133.49263697816573\n"
     ]
    }
   ],
   "source": [
    "df1 = []\n",
    "def df_calculator(t,df):\n",
    "    if (int(t)==t):\n",
    "        return df[int(t)-1]\n",
    "    else:\n",
    "        if (t<1):\n",
    "            return ((df[math.ceil(t)-1])**(t-math.floor(t)))\n",
    "        else:\n",
    "            return df[math.floor(t)-1]*((df[math.ceil(t)-1]/df[math.floor(t)-1])**(t-math.floor(t)))\n",
    "def df_optimize(x, prev_sum, coupon, price, freq):\n",
    "    t = list(np.arange(start=1/freq, stop=1+1/freq, step=1/freq))\n",
    "    dfn = df1 + [x]\n",
    "    new_df_calc_func = partial(df_calculator,df = dfn)\n",
    "    dfsum = np.sum(np.array(list(map(new_df_calc_func,t))))\n",
    "    return x*100 + coupon*dfsum + prev_sum - price\n",
    "p = [101.8137, 97.7066, 101.2414, 89.9751, 103.4012, 99.0074, 87.2097]\n",
    "c = [6.5, 3.25, 4.8, 1.5, 5, 4, 2]\n",
    "freq = 4\n",
    "for i in range(len(c)):\n",
    "    coupon = c[i] / freq\n",
    "    t = list(np.arange(start=1/freq, stop=i+1/freq, step=1/freq))\n",
    "    new_df_calc_func = partial(df_calculator,df = df1)\n",
    "    dfsum = np.sum(np.array(list(map(new_df_calc_func,t))))\n",
    "    df1 = df1 + [root_scalar(df_optimize,args=(dfsum*coupon/freq, coupon, p[i], freq),x0=0.8).root]\n",
    "bond_price = 100*df1[-1]+8*np.sum(df1)\n",
    "print('Discount factor:', df1)\n",
    "print('Bond price:', bond_price)"
   ]
  },
  {
   "cell_type": "markdown",
   "id": "dc4ddab4",
   "metadata": {},
   "source": [
    "### Question 6\n"
   ]
  },
  {
   "cell_type": "code",
   "execution_count": 7,
   "id": "f88531c7",
   "metadata": {},
   "outputs": [
    {
     "name": "stdout",
     "output_type": "stream",
     "text": [
      "101.54705310539747\n",
      "3.8114754098360657\n"
     ]
    }
   ],
   "source": [
    "date = datetime.date(2024, 2, 26)\n",
    "mature = datetime.date(2024, 4, 22)\n",
    "last_coupon = datetime.date(2023, 4, 22)\n",
    "quater = datetime.date(2024, 5, 26)\n",
    "df = math.exp((mature-date).days*(math.log(df1[0]))/(quater-date).days)\n",
    "print(104.5*df)\n",
    "print(4.5*(date-last_coupon).days/(mature-last_coupon).days)"
   ]
  },
  {
   "cell_type": "markdown",
   "id": "dadb08cf",
   "metadata": {},
   "source": [
    "### Question 7\n"
   ]
  },
  {
   "cell_type": "code",
   "execution_count": 8,
   "id": "627e1b77",
   "metadata": {},
   "outputs": [
    {
     "name": "stdout",
     "output_type": "stream",
     "text": [
      "Monthly payment: 43380.78179281635\n"
     ]
    }
   ],
   "source": [
    "def df_calculator(t):\n",
    "    if (int(t)==t):\n",
    "        return df1[int(t)-1]\n",
    "    else:\n",
    "        if (t<1):\n",
    "            return ((df1[math.ceil(t)-1])**(t-math.floor(t)))\n",
    "        else:\n",
    "            return df1[math.floor(t)-1]*((df1[math.ceil(t)-1]/df1[math.floor(t)-1])**(t-math.floor(t)))\n",
    "freq = 12\n",
    "t = list(np.arange(start=1/freq, stop=2+1/freq, step=1/freq))\n",
    "dfsum = np.sum(np.array(list(map(df_calculator,t))))\n",
    "print('Monthly payment:',1000000/dfsum)"
   ]
  },
  {
   "cell_type": "markdown",
   "id": "3d2745d8",
   "metadata": {},
   "source": [
    "### Question 8\n"
   ]
  },
  {
   "cell_type": "markdown",
   "id": "722c962e",
   "metadata": {},
   "source": [
    "$$\n",
    "B(t,T_i) = e^{-rT_i}\n",
    "$$\n",
    "\n",
    "Increase 50 basis point mean $$r + 0.005$$\n",
    "\n",
    "$$\n",
    "B'(t,T_i) = e^{-(r+0.005)T_i}\n",
    "=e^{-rT_i} \\cdot e^{-0.005T_i}\n",
    "=B(t,T_i) \\cdot e^{-0.005T_i}\n",
    "$$\n"
   ]
  },
  {
   "cell_type": "code",
   "execution_count": 9,
   "id": "c17db88b",
   "metadata": {},
   "outputs": [
    {
     "name": "stdout",
     "output_type": "stream",
     "text": [
      "Monthly payment: 43112.946313669745\n"
     ]
    }
   ],
   "source": [
    "def df_calculator(t):\n",
    "    if (int(t)==t):\n",
    "        return df1[int(t)-1]\n",
    "    else:\n",
    "        if (t<1):\n",
    "            return ((df1[math.ceil(t)-1])**(t-math.floor(t)))\n",
    "        else:\n",
    "            return df1[math.floor(t)-1]*((df1[math.ceil(t)-1]/df1[math.floor(t)-1])**(t-math.floor(t)))\n",
    "freq = 12\n",
    "t = list(np.arange(start=1/freq, stop=2+1/freq, step=1/freq))\n",
    "dfnew = np.array(list(map(df_calculator,t)))\n",
    "print('Monthly payment:',1000000/np.sum(dfnew*np.exp(np.arange(1, dfnew.shape[0]+1)*0.0005)))"
   ]
  },
  {
   "cell_type": "markdown",
   "id": "68a83142",
   "metadata": {},
   "source": [
    "### Question 9\n"
   ]
  },
  {
   "cell_type": "code",
   "execution_count": 10,
   "id": "0b2fdb88",
   "metadata": {},
   "outputs": [
    {
     "name": "stdout",
     "output_type": "stream",
     "text": [
      "Payment 1: 3265.654993108631\n",
      "Payment 2: 3140.799862333575\n",
      "Switch due to lower payment\n"
     ]
    }
   ],
   "source": [
    "def df_calculator(t):\n",
    "    if (int(t)==t):\n",
    "        return df1[int(t)-1]\n",
    "    else:\n",
    "        if (t<1):\n",
    "            return ((df1[math.ceil(t)-1])**(t-math.floor(t)))\n",
    "        else:\n",
    "            return df1[math.floor(t)-1]*((df1[math.ceil(t)-1]/df1[math.floor(t)-1])**(t-math.floor(t)))\n",
    "freq = 12\n",
    "t = list(np.arange(start=1/freq, stop=2+1/freq, step=1/freq))\n",
    "dfnew = np.array(list(map(df_calculator,t)))\n",
    "\n",
    "payment_pm1 = 10000*0.17/12\n",
    "payment1 = np.sum(np.full(24,payment_pm1) * dfnew)\n",
    "\n",
    "payment_pm2 = 10000*0.22/12\n",
    "payment2 = np.sum(np.concatenate((np.full(6,0), np.full(18,payment_pm2))) * dfnew)\n",
    "\n",
    "print('Payment 1:', payment1)\n",
    "print('Payment 2:', payment2)\n",
    "print('Switch due to lower payment')\n"
   ]
  },
  {
   "cell_type": "markdown",
   "id": "7088a517",
   "metadata": {},
   "source": [
    "### Question 10\n"
   ]
  },
  {
   "cell_type": "code",
   "execution_count": 11,
   "id": "eb6711c5",
   "metadata": {},
   "outputs": [
    {
     "name": "stdout",
     "output_type": "stream",
     "text": [
      "Rate: 0.22874558391953823\n"
     ]
    }
   ],
   "source": [
    "def df_calculator(t):\n",
    "    if (int(t)==t):\n",
    "        return df1[int(t)-1]\n",
    "    else:\n",
    "        if (t<1):\n",
    "            return ((df1[math.ceil(t)-1])**(t-math.floor(t)))\n",
    "        else:\n",
    "            return df1[math.floor(t)-1]*((df1[math.ceil(t)-1]/df1[math.floor(t)-1])**(t-math.floor(t)))\n",
    "freq = 12\n",
    "t = list(np.arange(start=1/freq, stop=2+1/freq, step=1/freq))\n",
    "dfnew = np.array(list(map(df_calculator,t)))\n",
    "\n",
    "def rate_change(x):\n",
    "    payment_pm1 = 10000*0.17/12\n",
    "    payment1 = np.sum(np.full(24,payment_pm1) * dfnew)\n",
    "\n",
    "    payment_pm2 = 10000*x/12\n",
    "    payment2 = np.sum(np.concatenate((np.full(6,0), np.full(18,payment_pm2))) * dfnew)\n",
    "\n",
    "    return payment1-payment2\n",
    "\n",
    "rate = root_scalar(rate_change, bracket=[0,1]).root\n",
    "print('Rate:',rate)"
   ]
  }
 ],
 "metadata": {
  "kernelspec": {
   "display_name": "Python 3",
   "language": "python",
   "name": "python3"
  },
  "language_info": {
   "codemirror_mode": {
    "name": "ipython",
    "version": 3
   },
   "file_extension": ".py",
   "mimetype": "text/x-python",
   "name": "python",
   "nbconvert_exporter": "python",
   "pygments_lexer": "ipython3",
   "version": "3.12.3"
  }
 },
 "nbformat": 4,
 "nbformat_minor": 5
}
